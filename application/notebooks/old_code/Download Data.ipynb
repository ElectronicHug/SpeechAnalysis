{
 "cells": [
  {
   "cell_type": "code",
   "execution_count": 8,
   "id": "99d49210-4acc-4435-9a10-a241f5c53862",
   "metadata": {},
   "outputs": [],
   "source": [
    "import opendatasets as od"
   ]
  },
  {
   "cell_type": "code",
   "execution_count": 9,
   "id": "3d981b12-944b-4b9c-9d5f-e9761a22ce98",
   "metadata": {},
   "outputs": [
    {
     "name": "stdout",
     "output_type": "stream",
     "text": [
      "Please provide your Kaggle credentials to download this dataset. Learn more: http://bit.ly/kaggle-creds\n",
      "Your Kaggle username: "
     ]
    },
    {
     "name": "stdin",
     "output_type": "stream",
     "text": [
      " zekamrozek\n"
     ]
    },
    {
     "name": "stdout",
     "output_type": "stream",
     "text": [
      "Your Kaggle Key: "
     ]
    },
    {
     "name": "stdin",
     "output_type": "stream",
     "text": [
      " ································\n"
     ]
    },
    {
     "name": "stdout",
     "output_type": "stream",
     "text": [
      "Downloading ravdess-emotional-speech-audio.zip to ./ravdess-emotional-speech-audio\n"
     ]
    },
    {
     "name": "stderr",
     "output_type": "stream",
     "text": [
      "100%|█████████████████████████████████████████████████████████████████████████████████████████████████████████████████████████████████████████████████████████████| 429M/429M [00:08<00:00, 52.9MB/s]\n"
     ]
    },
    {
     "name": "stdout",
     "output_type": "stream",
     "text": [
      "\n"
     ]
    }
   ],
   "source": [
    "\n",
    "od.download(\"https://www.kaggle.com/uwrfkaggler/ravdess-emotional-speech-audio\")"
   ]
  },
  {
   "cell_type": "code",
   "execution_count": 10,
   "id": "3ea4af7d-23df-4a21-adbf-91c59200439d",
   "metadata": {},
   "outputs": [
    {
     "name": "stdout",
     "output_type": "stream",
     "text": [
      "Please provide your Kaggle credentials to download this dataset. Learn more: http://bit.ly/kaggle-creds\n",
      "Your Kaggle username: "
     ]
    },
    {
     "name": "stdin",
     "output_type": "stream",
     "text": [
      " zekamrozek\n"
     ]
    },
    {
     "name": "stdout",
     "output_type": "stream",
     "text": [
      "Your Kaggle Key: "
     ]
    },
    {
     "name": "stdin",
     "output_type": "stream",
     "text": [
      " ································\n"
     ]
    },
    {
     "name": "stdout",
     "output_type": "stream",
     "text": [
      "Downloading cremad.zip to ./cremad\n"
     ]
    },
    {
     "name": "stderr",
     "output_type": "stream",
     "text": [
      "100%|█████████████████████████████████████████████████████████████████████████████████████████████████████████████████████████████████████████████████████████████| 451M/451M [00:07<00:00, 61.0MB/s]\n"
     ]
    },
    {
     "name": "stdout",
     "output_type": "stream",
     "text": [
      "\n"
     ]
    }
   ],
   "source": [
    "od.download(\"https://www.kaggle.com/ejlok1/cremad\")"
   ]
  },
  {
   "cell_type": "code",
   "execution_count": 11,
   "id": "40b51130-14e4-444b-8ba5-164c9bb63e4d",
   "metadata": {},
   "outputs": [
    {
     "name": "stdout",
     "output_type": "stream",
     "text": [
      "Please provide your Kaggle credentials to download this dataset. Learn more: http://bit.ly/kaggle-creds\n",
      "Your Kaggle username: "
     ]
    },
    {
     "name": "stdin",
     "output_type": "stream",
     "text": [
      " zekamrozek\n"
     ]
    },
    {
     "name": "stdout",
     "output_type": "stream",
     "text": [
      "Your Kaggle Key: "
     ]
    },
    {
     "name": "stdin",
     "output_type": "stream",
     "text": [
      " ································\n"
     ]
    },
    {
     "name": "stdout",
     "output_type": "stream",
     "text": [
      "Downloading surrey-audiovisual-expressed-emotion-savee.zip to ./surrey-audiovisual-expressed-emotion-savee\n"
     ]
    },
    {
     "name": "stderr",
     "output_type": "stream",
     "text": [
      "100%|█████████████████████████████████████████████████████████████████████████████████████████████████████████████████████████████████████████████████████████████| 107M/107M [00:02<00:00, 45.5MB/s]\n"
     ]
    },
    {
     "name": "stdout",
     "output_type": "stream",
     "text": [
      "\n"
     ]
    }
   ],
   "source": [
    "od.download(\"https://www.kaggle.com/ejlok1/surrey-audiovisual-expressed-emotion-savee\")"
   ]
  },
  {
   "cell_type": "code",
   "execution_count": 12,
   "id": "b77c806e-9f98-4c70-bdeb-864bbffd5d56",
   "metadata": {},
   "outputs": [
    {
     "name": "stdout",
     "output_type": "stream",
     "text": [
      "Please provide your Kaggle credentials to download this dataset. Learn more: http://bit.ly/kaggle-creds\n",
      "Your Kaggle username: "
     ]
    },
    {
     "name": "stdin",
     "output_type": "stream",
     "text": [
      " zekamrozek\n"
     ]
    },
    {
     "name": "stdout",
     "output_type": "stream",
     "text": [
      "Your Kaggle Key: "
     ]
    },
    {
     "name": "stdin",
     "output_type": "stream",
     "text": [
      " ································\n"
     ]
    },
    {
     "name": "stdout",
     "output_type": "stream",
     "text": [
      "Downloading toronto-emotional-speech-set-tess.zip to ./toronto-emotional-speech-set-tess\n"
     ]
    },
    {
     "name": "stderr",
     "output_type": "stream",
     "text": [
      "100%|█████████████████████████████████████████████████████████████████████████████████████████████████████████████████████████████████████████████████████████████| 428M/428M [00:06<00:00, 66.3MB/s]\n"
     ]
    },
    {
     "name": "stdout",
     "output_type": "stream",
     "text": [
      "\n"
     ]
    }
   ],
   "source": [
    "od.download(\"https://www.kaggle.com/ejlok1/toronto-emotional-speech-set-tess\")"
   ]
  },
  {
   "cell_type": "code",
   "execution_count": null,
   "id": "08efcf43-c2b0-41ae-93b2-08f9b6ca66e0",
   "metadata": {},
   "outputs": [],
   "source": []
  }
 ],
 "metadata": {
  "kernelspec": {
   "display_name": "Python 3 (ipykernel)",
   "language": "python",
   "name": "python3"
  },
  "language_info": {
   "codemirror_mode": {
    "name": "ipython",
    "version": 3
   },
   "file_extension": ".py",
   "mimetype": "text/x-python",
   "name": "python",
   "nbconvert_exporter": "python",
   "pygments_lexer": "ipython3",
   "version": "3.8.0"
  }
 },
 "nbformat": 4,
 "nbformat_minor": 5
}
