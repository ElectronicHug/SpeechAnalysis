{
 "cells": [
  {
   "cell_type": "code",
   "execution_count": 1,
   "id": "b14b9bea-bca8-450f-98d0-9f60139da090",
   "metadata": {},
   "outputs": [],
   "source": [
    "import pandas as pd\n",
    "import numpy as np\n",
    "\n",
    "import os\n",
    "import sys\n",
    "\n",
    "# librosa is a Python library for analyzing audio and music. It can be used to extract the data from the audio files we will see it later.\n",
    "import librosa\n",
    "import librosa.display\n",
    "import seaborn as sns\n",
    "import matplotlib.pyplot as plt\n",
    "\n",
    "from sklearn.preprocessing import StandardScaler, OneHotEncoder\n",
    "from sklearn.metrics import confusion_matrix, classification_report\n",
    "from sklearn.model_selection import StratifiedKFold, train_test_split\n",
    "\n",
    "# to play the audio files\n",
    "from IPython.display import Audio\n",
    "\n",
    "from os.path import join as pjoin\n",
    "import cv2\n",
    "from PIL import Image\n",
    "\n",
    "from typing import Dict, Any\n",
    "import math\n",
    "from copy import deepcopy\n",
    "\n",
    "from matplotlib import pyplot as plt\n",
    "from sklearn.model_selection import StratifiedKFold\n",
    "from sklearn.metrics import roc_auc_score\n",
    "from tqdm.notebook import tqdm\n",
    "\n",
    "import torch\n",
    "from torch import LongTensor, FloatTensor, HalfTensor, Tensor\n",
    "from torch.utils.data import Dataset, DataLoader\n",
    "from copy import deepcopy\n",
    "from torch import nn, optim\n",
    "import torch.nn.functional as F\n",
    "import inspect\n",
    "\n",
    "from catalyst import dl, utils\n",
    "import timm\n",
    "\n",
    "from torch.fft import fft, ifft\n",
    "\n",
    "from torchaudio.functional import bandpass_biquad\n",
    "from nnAudio.Spectrogram import CQT1992v2\n",
    "import torchvision.models as models\n",
    "\n",
    "%matplotlib inline\n",
    "\n",
    "sampling_rate = 22050"
   ]
  },
  {
   "cell_type": "code",
   "execution_count": 22,
   "id": "b24c85c6-e804-4256-8ccb-9d5f563f4e07",
   "metadata": {},
   "outputs": [
    {
     "data": {
      "text/plain": [
       "(8756, 973, 2433)"
      ]
     },
     "execution_count": 22,
     "metadata": {},
     "output_type": "execute_result"
    }
   ],
   "source": [
    "data_path = pd.read_csv(\"data_path.csv\", #nrows=500\n",
    "                       )\n",
    "data_path = data_path.rename(columns={'Path':'path', 'Emotions':'emotions'})\n",
    "\n",
    "dict_of_class = {\n",
    "    'neutral': 0,\n",
    "    'sad': 1,\n",
    "    'happy': 2,\n",
    "    'angry': 3,\n",
    "    'disgust': 4,\n",
    "    'fear': 5,\n",
    "    'surprise': 6,\n",
    "    'calm': 0,\n",
    "    }\n",
    "\n",
    "data_path['target'] = data_path.apply(lambda x: dict_of_class[x.emotions], axis=1)\n",
    "dict_of_class.pop('calm')\n",
    "n_of_class_emotion = len(dict_of_class)\n",
    "data_path['preloaded_id'] = data_path.index.values\n",
    "\n",
    "train_original, test_original = train_test_split(data_path, test_size=0.2, stratify=data_path[['emotions', 'dataset']].astype(str).apply('_'.join, axis=1), random_state=42)\n",
    "train_original, valid_original = train_test_split(train_original, test_size=0.1, stratify=train_original[['emotions', 'dataset']].astype(str).apply('_'.join, axis=1), random_state=42)\n",
    "train_original.shape[0], valid_original.shape[0], test_original.shape[0]"
   ]
  },
  {
   "cell_type": "code",
   "execution_count": 23,
   "id": "d0e8f190-ec9f-4c2f-9acd-c034d17dd9a6",
   "metadata": {},
   "outputs": [
    {
     "data": {
      "application/vnd.jupyter.widget-view+json": {
       "model_id": "2267e723c87c44f39c6673d42a93391f",
       "version_major": 2,
       "version_minor": 0
      },
      "text/plain": [
       "  0%|          | 0/12162 [00:00<?, ?it/s]"
      ]
     },
     "metadata": {},
     "output_type": "display_data"
    }
   ],
   "source": [
    "preloaded_audios = []\n",
    "for path in tqdm(data_path.path):\n",
    "    preloaded_audios.append(librosa.load(path, res_type='kaiser_fast'))"
   ]
  },
  {
   "cell_type": "code",
   "execution_count": 34,
   "id": "317cccc9-843c-44b8-9549-37ab814046cd",
   "metadata": {},
   "outputs": [],
   "source": [
    "def split_dataset(input_df, sec_each_sample=1, overlapping=0.5):\n",
    "    \n",
    "    #dataset = pd.DataFrame(columns=['path','target', 'start', 'end'])\n",
    "    dataset = []\n",
    "    for row in input_df.values:\n",
    "        sec_y = librosa.get_duration(filename=row[1])\n",
    "        if (sec_y/sec_each_sample-0.5) > 1:\n",
    "            audio_df = (sampling_rate*sec_each_sample*pd.DataFrame(\n",
    "                [(i*overlapping, (i*overlapping+1)) for i in range(1, int(2*sec_y/sec_each_sample-2))]+\n",
    "                [(max(sec_y/sec_each_sample-1.5, 0), sec_y/sec_each_sample-0.5)]\n",
    "            , columns=['start', 'end'])).astype(int)\n",
    "        else:\n",
    "            audio_df = (sampling_rate*sec_each_sample*pd.DataFrame(\n",
    "                [(max(sec_y/sec_each_sample-1, 0), sec_y/sec_each_sample)]\n",
    "            , columns=['start', 'end'])).astype(int)\n",
    "        audio_df['path'] = row[1]\n",
    "        audio_df['target'] = row[3]\n",
    "        audio_df['preloaded_id'] = row[4]\n",
    "        dataset.append(audio_df)\n",
    "    return pd.concat(dataset).reset_index(drop=True)"
   ]
  },
  {
   "cell_type": "code",
   "execution_count": 35,
   "id": "1b4b2840-fe36-42b7-924b-0f0ade0f9219",
   "metadata": {},
   "outputs": [
    {
     "name": "stdout",
     "output_type": "stream",
     "text": [
      "CPU times: user 26.3 s, sys: 351 ms, total: 26.7 s\n",
      "Wall time: 26.6 s\n"
     ]
    }
   ],
   "source": [
    "%%time\n",
    "train = split_dataset(train_original)\n",
    "valid = split_dataset(valid_original)\n",
    "test = split_dataset(test_original)"
   ]
  },
  {
   "cell_type": "code",
   "execution_count": 37,
   "id": "55b2efe7-165c-468b-b503-90c9f404e66e",
   "metadata": {},
   "outputs": [
    {
     "name": "stderr",
     "output_type": "stream",
     "text": [
      "/tmp/ipykernel_103692/777247130.py:1: SettingWithCopyWarning: \n",
      "A value is trying to be set on a copy of a slice from a DataFrame\n",
      "\n",
      "See the caveats in the documentation: https://pandas.pydata.org/pandas-docs/stable/user_guide/indexing.html#returning-a-view-versus-a-copy\n",
      "  train.end[(train.end - train.start) > 22050] = train.start[(train.end - train.start) > 22050]+22050\n",
      "/tmp/ipykernel_103692/777247130.py:2: SettingWithCopyWarning: \n",
      "A value is trying to be set on a copy of a slice from a DataFrame\n",
      "\n",
      "See the caveats in the documentation: https://pandas.pydata.org/pandas-docs/stable/user_guide/indexing.html#returning-a-view-versus-a-copy\n",
      "  valid.end[(valid.end - valid.start) > 22050] = valid.start[(valid.end - valid.start) > 22050]+22050\n",
      "/tmp/ipykernel_103692/777247130.py:3: SettingWithCopyWarning: \n",
      "A value is trying to be set on a copy of a slice from a DataFrame\n",
      "\n",
      "See the caveats in the documentation: https://pandas.pydata.org/pandas-docs/stable/user_guide/indexing.html#returning-a-view-versus-a-copy\n",
      "  test.end[(test.end - test.start) > 22050] = test.start[(test.end - test.start) > 22050]+22050\n"
     ]
    }
   ],
   "source": [
    "train.end[(train.end - train.start) > 22050] = train.start[(train.end - train.start) > 22050]+22050\n",
    "valid.end[(valid.end - valid.start) > 22050] = valid.start[(valid.end - valid.start) > 22050]+22050\n",
    "test.end[(test.end - test.start) > 22050] = test.start[(test.end - test.start) > 22050]+22050"
   ]
  },
  {
   "cell_type": "code",
   "execution_count": 43,
   "id": "01d1b573-1a84-4198-b0bb-5d975698b979",
   "metadata": {},
   "outputs": [],
   "source": [
    "#PERIOD=5\n",
    "\n",
    "class Emotional_Dataset(Dataset):\n",
    "    def __init__(self, dataset, target=None):\n",
    "        self.path = dataset.path.values\n",
    "        if target is not None:\n",
    "            self.target = FloatTensor(np.array(target))\n",
    "        else:\n",
    "            self.target = None\n",
    "        self.index = dataset.path\n",
    "        self.start = dataset.start.values\n",
    "        self.end = dataset.end.values\n",
    "        self.preloaded_id = dataset.preloaded_id.values\n",
    "        \n",
    "    def __len__(self):\n",
    "        return len(self.path)\n",
    "\n",
    "    def __getitem__(self, idx):\n",
    "        \n",
    "        #y, sampling_rate = librosa.load(self.path[idx], res_type='kaiser_fast')\n",
    "        y, sampling_rate = preloaded_audios[self.preloaded_id[idx]]\n",
    "        \n",
    "        y = y[self.start[idx]:self.end[idx]]\n",
    "\n",
    "            \n",
    "        sample = {'features':  FloatTensor(np.expand_dims(y, 0))}\n",
    "        if self.target is not None:\n",
    "            sample['targets'] = int(self.target[idx])#labels.flatten()\n",
    "            \n",
    "        return sample"
   ]
  },
  {
   "cell_type": "code",
   "execution_count": 44,
   "id": "c303e882-a72d-48c8-b049-254a8d549a85",
   "metadata": {},
   "outputs": [
    {
     "data": {
      "image/png": "[encoded data removed]",
      "text/plain": [
       "<Figure size 432x288 with 1 Axes>"
      ]
     },
     "metadata": {
      "needs_background": "light"
     },
     "output_type": "display_data"
    }
   ],
   "source": [
    "A_temp = Emotional_Dataset(train, train.target)\n",
    "smp = A_temp[0]\n",
    "wave, labl = smp['features'].numpy(), smp['targets']\n",
    "plt.plot(wave[0]);"
   ]
  },
  {
   "cell_type": "code",
   "execution_count": 45,
   "id": "3627cd4a-d850-4c89-ae1a-2799e2b33f3f",
   "metadata": {},
   "outputs": [],
   "source": [
    "# class Preloaded_Emotional_Dataset(Dataset):\n",
    "#     def __init__(self, em_dataset):\n",
    "        \n",
    "#         self.preloaded_spec = []\n",
    "#         for i in tqdm(range(len(em_dataset))):\n",
    "#             self.preloaded_spec.append(em_dataset[i])\n",
    "            \n",
    "#     def __len__(self):\n",
    "#         return len(self.preloaded_spec)\n",
    "\n",
    "#     def __getitem__(self, idx):\n",
    "#         return self.preloaded_spec[idx]"
   ]
  },
  {
   "cell_type": "code",
   "execution_count": 46,
   "id": "c64991ee-2f13-4bec-8fa3-78e454a79310",
   "metadata": {},
   "outputs": [],
   "source": [
    "class GeM(nn.Module):\n",
    "    '''\n",
    "    Code modified from the 2d code in\n",
    "    https://amaarora.github.io/2020/08/30/gempool.html\n",
    "    '''\n",
    "    def __init__(self, kernel_size=8, p=3, eps=1e-6):\n",
    "        super(GeM,self).__init__()\n",
    "        self.p = nn.Parameter(torch.ones(1)*p)\n",
    "        self.kernel_size = kernel_size\n",
    "        self.eps = eps\n",
    "\n",
    "    def forward(self, x):\n",
    "        return self.gem(x, p=self.p, eps=self.eps)\n",
    "        \n",
    "    def gem(self, x, p=3, eps=1e-6):\n",
    "        return F.avg_pool1d(x.clamp(min=eps).pow(p), self.kernel_size).pow(1./p)\n",
    "        \n",
    "    def __repr__(self):\n",
    "        return self.__class__.__name__ + \\\n",
    "                '(' + 'p=' + '{:.4f}'.format(self.p.data.tolist()[0]) + \\\n",
    "                ', ' + 'eps=' + str(self.eps) + ')'\n",
    "    \n",
    "class CNN1d(nn.Module):\n",
    "    \"\"\"1D convolutional neural network. Classifier of the gravitational waves.\n",
    "    Architecture from there https://journals.aps.org/prl/pdf/10.1103/PhysRevLett.120.141103\n",
    "    \"\"\"\n",
    "\n",
    "    def __init__(self):\n",
    "        super().__init__()\n",
    "        self.cnn1 = nn.Sequential(\n",
    "            nn.Conv1d(1, 64, kernel_size=441),\n",
    "            nn.BatchNorm1d(64),\n",
    "            nn.SiLU(),\n",
    "        )\n",
    "        self.cnn2 = nn.Sequential(\n",
    "            nn.Conv1d(64, 64, kernel_size=32),\n",
    "            GeM(kernel_size=8),\n",
    "            nn.BatchNorm1d(64),\n",
    "            nn.SiLU(),\n",
    "        )\n",
    "        self.cnn3 = nn.Sequential(\n",
    "            nn.Conv1d(64, 128, kernel_size=32),\n",
    "            nn.BatchNorm1d(128),\n",
    "            nn.SiLU(),\n",
    "        )\n",
    "        self.cnn4 = nn.Sequential(\n",
    "            nn.Conv1d(128, 128, kernel_size=16),\n",
    "            GeM(kernel_size=6),\n",
    "            nn.BatchNorm1d(128),\n",
    "            nn.SiLU(),\n",
    "        )\n",
    "        self.cnn5 = nn.Sequential(\n",
    "            nn.Conv1d(128, 256, kernel_size=16),\n",
    "            nn.BatchNorm1d(256),\n",
    "            nn.SiLU(),\n",
    "        )\n",
    "        self.cnn6 = nn.Sequential(\n",
    "            nn.Conv1d(256, 256, kernel_size=16),\n",
    "            GeM(kernel_size=4),\n",
    "            nn.BatchNorm1d(256),\n",
    "            nn.SiLU(),\n",
    "        )\n",
    "        self.fc1 = nn.Sequential(\n",
    "            nn.Linear(26112, 64),\n",
    "            nn.BatchNorm1d(64),\n",
    "            nn.Dropout(0.25),\n",
    "            nn.SiLU(),\n",
    "        )\n",
    "        self.fc2 = nn.Sequential(\n",
    "            nn.Linear(64, 64),\n",
    "            nn.BatchNorm1d(64),\n",
    "            nn.Dropout(0.25),\n",
    "            nn.SiLU(),\n",
    "        )\n",
    "        self.fc3 = nn.Sequential(\n",
    "            nn.Linear(64, n_of_class_emotion),\n",
    "        )\n",
    "\n",
    "    def forward(self, x, pos=None):\n",
    "        x = self.cnn1(x)\n",
    "        x = self.cnn2(x)\n",
    "        x = self.cnn3(x)\n",
    "        x = self.cnn4(x)\n",
    "        x = self.cnn5(x)\n",
    "        x = self.cnn6(x)\n",
    "        x = x.flatten(start_dim=1)\n",
    "        x = self.fc1(x)\n",
    "        x = self.fc2(x)\n",
    "        x = self.fc3(x)\n",
    "        return x\n",
    "    \n",
    "    \n",
    "class TimmModel(nn.Module):\n",
    "    def __init__(self):\n",
    "        super().__init__()\n",
    "        self.wave_model = CNN1d()\n",
    "        #self.img_model = timm.create_model('tf_efficientnet_b0_ns', pretrained=True)\n",
    "        #self.img_model.conv_stem.stride = (1,2)\n",
    "        #self.classifier = nn.Sequential(nn.ELU(), nn.Dropout(0.2), nn.Linear(in_features=1000, out_features=1))\n",
    "        self.classifier = nn.Identity()\n",
    "        \n",
    "    def forward(self, features):\n",
    "        return self.classifier(self.wave_model(features))#.flatten()"
   ]
  },
  {
   "cell_type": "code",
   "execution_count": 47,
   "id": "585c6614-28e3-4a14-8d62-ed2f4aab5bc3",
   "metadata": {},
   "outputs": [
    {
     "name": "stdout",
     "output_type": "stream",
     "text": [
      "Sat Oct  2 23:45:24 2021       \n",
      "+-----------------------------------------------------------------------------+\n",
      "| NVIDIA-SMI 460.80       Driver Version: 460.80       CUDA Version: 11.2     |\n",
      "|-------------------------------+----------------------+----------------------+\n",
      "| GPU  Name        Persistence-M| Bus-Id        Disp.A | Volatile Uncorr. ECC |\n",
      "| Fan  Temp  Perf  Pwr:Usage/Cap|         Memory-Usage | GPU-Util  Compute M. |\n",
      "|                               |                      |               MIG M. |\n",
      "|===============================+======================+======================|\n",
      "|   0  Tesla V100-PCIE...  On   | 00000001:00:00.0 Off |                    0 |\n",
      "| N/A   26C    P0    36W / 250W |  14767MiB / 16160MiB |      0%      Default |\n",
      "|                               |                      |                  N/A |\n",
      "+-------------------------------+----------------------+----------------------+\n",
      "                                                                               \n",
      "+-----------------------------------------------------------------------------+\n",
      "| Processes:                                                                  |\n",
      "|  GPU   GI   CI        PID   Type   Process name                  GPU Memory |\n",
      "|        ID   ID                                                   Usage      |\n",
      "|=============================================================================|\n",
      "|    0   N/A  N/A    103692      C   ...zek/env_mrozek/bin/python    14763MiB |\n",
      "+-----------------------------------------------------------------------------+\n"
     ]
    }
   ],
   "source": [
    "!nvidia-smi"
   ]
  },
  {
   "cell_type": "code",
   "execution_count": 48,
   "id": "86c65546-f8be-4f70-a87a-abec6716530c",
   "metadata": {},
   "outputs": [
    {
     "data": {
      "application/vnd.jupyter.widget-view+json": {
       "model_id": "a0e3988e163b48819bd44a9b4bc0d215",
       "version_major": 2,
       "version_minor": 0
      },
      "text/plain": [
       "1/100 * Epoch (train):   0%|          | 0/121 [00:00<?, ?it/s]"
      ]
     },
     "metadata": {},
     "output_type": "display_data"
    },
    {
     "name": "stderr",
     "output_type": "stream",
     "text": [
      "[W pthreadpool-cpp.cc:90] Warning: Leaking Caffe2 thread-pool after fork. (function pthreadpool)\n",
      "[W pthreadpool-cpp.cc:90] Warning: Leaking Caffe2 thread-pool after fork. (function pthreadpool)\n",
      "[W pthreadpool-cpp.cc:90] Warning: Leaking Caffe2 thread-pool after fork. (function pthreadpool)\n",
      "[W pthreadpool-cpp.cc:90] Warning: Leaking Caffe2 thread-pool after fork. (function pthreadpool)\n",
      "[W pthreadpool-cpp.cc:90] Warning: Leaking Caffe2 thread-pool after fork. (function pthreadpool)\n",
      "[W pthreadpool-cpp.cc:90] Warning: Leaking Caffe2 thread-pool after fork. (function pthreadpool)\n"
     ]
    },
    {
     "name": "stdout",
     "output_type": "stream",
     "text": [
      "train (1/100) accuracy: 0.24731405079364777 | accuracy/std: 0.041571475833982234 | accuracy01: 0.24731405079364777 | accuracy01/std: 0.041571475833982234 | accuracy03: 0.6152892708778381 | accuracy03/std: 0.05036048104849416 | accuracy05: 0.8465288877487183 | accuracy05/std: 0.03026696010726676 | loss: 1.854714035987854 | loss/mean: 1.854714035987854 | loss/std: 0.05220909139911498 | lr: 1e-05 | momentum: 0.9\n"
     ]
    },
    {
     "data": {
      "application/vnd.jupyter.widget-view+json": {
       "model_id": "d65bd81611504504a96ff8e0e997dd14",
       "version_major": 2,
       "version_minor": 0
      },
      "text/plain": [
       "1/100 * Epoch (valid):   0%|          | 0/14 [00:00<?, ?it/s]"
      ]
     },
     "metadata": {},
     "output_type": "display_data"
    },
    {
     "name": "stderr",
     "output_type": "stream",
     "text": [
      "[W pthreadpool-cpp.cc:90] Warning: Leaking Caffe2 thread-pool after fork. (function pthreadpool)\n",
      "[W pthreadpool-cpp.cc:90] Warning: Leaking Caffe2 thread-pool after fork. (function pthreadpool)\n",
      "[W pthreadpool-cpp.cc:90] Warning: Leaking Caffe2 thread-pool after fork. (function pthreadpool)\n",
      "[W pthreadpool-cpp.cc:90] Warning: Leaking Caffe2 thread-pool after fork. (function pthreadpool)\n",
      "[W pthreadpool-cpp.cc:90] Warning: Leaking Caffe2 thread-pool after fork. (function pthreadpool)\n",
      "[W pthreadpool-cpp.cc:90] Warning: Leaking Caffe2 thread-pool after fork. (function pthreadpool)\n"
     ]
    },
    {
     "name": "stdout",
     "output_type": "stream",
     "text": [
      "valid (1/100) accuracy: 0.32551318407058716 | accuracy/std: 0.04730389306806859 | accuracy01: 0.32551318407058716 | accuracy01/std: 0.04730389306806859 | accuracy03: 0.6730204820632935 | accuracy03/std: 0.046491545044961356 | accuracy05: 0.8662023544311523 | accuracy05/std: 0.04269809720129196 | loss: 1.7914029359817505 | loss/mean: 1.7914029359817505 | loss/std: 0.038798907057176334 | lr: 1e-05 | momentum: 0.9\n",
      "* Epoch (1/100) lr: 1e-05 | momentum: 0.9\n"
     ]
    },
    {
     "data": {
      "application/vnd.jupyter.widget-view+json": {
       "model_id": "724c702aa1c34e3497cd7680d901e941",
       "version_major": 2,
       "version_minor": 0
      },
      "text/plain": [
       "2/100 * Epoch (train):   0%|          | 0/121 [00:00<?, ?it/s]"
      ]
     },
     "metadata": {},
     "output_type": "display_data"
    },
    {
     "name": "stderr",
     "output_type": "stream",
     "text": [
      "[W pthreadpool-cpp.cc:90] Warning: Leaking Caffe2 thread-pool after fork. (function pthreadpool)\n",
      "[W pthreadpool-cpp.cc:90] Warning: Leaking Caffe2 thread-pool after fork. (function pthreadpool)\n",
      "[W pthreadpool-cpp.cc:90] Warning: Leaking Caffe2 thread-pool after fork. (function pthreadpool)\n",
      "[W pthreadpool-cpp.cc:90] Warning: Leaking Caffe2 thread-pool after fork. (function pthreadpool)\n",
      "[W pthreadpool-cpp.cc:90] Warning: Leaking Caffe2 thread-pool after fork. (function pthreadpool)\n",
      "[W pthreadpool-cpp.cc:90] Warning: Leaking Caffe2 thread-pool after fork. (function pthreadpool)\n"
     ]
    },
    {
     "name": "stdout",
     "output_type": "stream",
     "text": [
      "train (2/100) accuracy: 0.3251652717590332 | accuracy/std: 0.034997380091520106 | accuracy01: 0.3251652717590332 | accuracy01/std: 0.034997380091520106 | accuracy03: 0.6939669251441956 | accuracy03/std: 0.031075844296331947 | accuracy05: 0.8852065801620483 | accuracy05/std: 0.020544636607355515 | loss: 1.7352198362350464 | loss/mean: 1.7352198362350464 | loss/std: 0.033025492827068986 | lr: 1e-05 | momentum: 0.9\n"
     ]
    },
    {
     "data": {
      "application/vnd.jupyter.widget-view+json": {
       "model_id": "7f58264d469043d78a16602106c0bcf9",
       "version_major": 2,
       "version_minor": 0
      },
      "text/plain": [
       "2/100 * Epoch (valid):   0%|          | 0/14 [00:00<?, ?it/s]"
      ]
     },
     "metadata": {},
     "output_type": "display_data"
    },
    {
     "name": "stderr",
     "output_type": "stream",
     "text": [
      "[W pthreadpool-cpp.cc:90] Warning: Leaking Caffe2 thread-pool after fork. (function pthreadpool)\n",
      "[W pthreadpool-cpp.cc:90] Warning: Leaking Caffe2 thread-pool after fork. (function pthreadpool)\n",
      "[W pthreadpool-cpp.cc:90] Warning: Leaking Caffe2 thread-pool after fork. (function pthreadpool)\n",
      "[W pthreadpool-cpp.cc:90] Warning: Leaking Caffe2 thread-pool after fork. (function pthreadpool)\n",
      "[W pthreadpool-cpp.cc:90] Warning: Leaking Caffe2 thread-pool after fork. (function pthreadpool)\n",
      "[W pthreadpool-cpp.cc:90] Warning: Leaking Caffe2 thread-pool after fork. (function pthreadpool)\n"
     ]
    },
    {
     "name": "stdout",
     "output_type": "stream",
     "text": [
      "valid (2/100) accuracy: 0.35997065901756287 | accuracy/std: 0.050995265286107885 | accuracy01: 0.35997065901756287 | accuracy01/std: 0.050995265286107885 | accuracy03: 0.7052785754203796 | accuracy03/std: 0.0492527173968478 | accuracy05: 0.8870967626571655 | accuracy05/std: 0.03216385880838678 | loss: 1.7105122804641724 | loss/mean: 1.7105122804641724 | loss/std: 0.05380332658584254 | lr: 1e-05 | momentum: 0.9\n",
      "* Epoch (2/100) lr: 1e-05 | momentum: 0.9\n"
     ]
    },
    {
     "data": {
      "application/vnd.jupyter.widget-view+json": {
       "model_id": "260ae3a10f6142878e1f9caf89fe9e58",
       "version_major": 2,
       "version_minor": 0
      },
      "text/plain": [
       "3/100 * Epoch (train):   0%|          | 0/121 [00:00<?, ?it/s]"
      ]
     },
     "metadata": {},
     "output_type": "display_data"
    },
    {
     "name": "stderr",
     "output_type": "stream",
     "text": [
      "[W pthreadpool-cpp.cc:90] Warning: Leaking Caffe2 thread-pool after fork. (function pthreadpool)\n",
      "[W pthreadpool-cpp.cc:90] Warning: Leaking Caffe2 thread-pool after fork. (function pthreadpool)\n",
      "[W pthreadpool-cpp.cc:90] Warning: Leaking Caffe2 thread-pool after fork. (function pthreadpool)\n",
      "[W pthreadpool-cpp.cc:90] Warning: Leaking Caffe2 thread-pool after fork. (function pthreadpool)\n",
      "[W pthreadpool-cpp.cc:90] Warning: Leaking Caffe2 thread-pool after fork. (function pthreadpool)\n",
      "[W pthreadpool-cpp.cc:90] Warning: Leaking Caffe2 thread-pool after fork. (function pthreadpool)\n"
     ]
    },
    {
     "name": "stdout",
     "output_type": "stream",
     "text": [
      "train (3/100) accuracy: 0.37347105145454407 | accuracy/std: 0.035929062107408434 | accuracy01: 0.37347105145454407 | accuracy01/std: 0.035929062107408434 | accuracy03: 0.7268595099449158 | accuracy03/std: 0.0314145228726803 | accuracy05: 0.9042974710464478 | accuracy05/std: 0.022529652326049136 | loss: 1.6541743278503418 | loss/mean: 1.6541743278503418 | loss/std: 0.03906597358739279 | lr: 1e-05 | momentum: 0.9\n"
     ]
    },
    {
     "data": {
      "application/vnd.jupyter.widget-view+json": {
       "model_id": "56ef4908ecb64e639b7977c3b20f6c85",
       "version_major": 2,
       "version_minor": 0
      },
      "text/plain": [
       "3/100 * Epoch (valid):   0%|          | 0/14 [00:00<?, ?it/s]"
      ]
     },
     "metadata": {},
     "output_type": "display_data"
    },
    {
     "name": "stderr",
     "output_type": "stream",
     "text": [
      "[W pthreadpool-cpp.cc:90] Warning: Leaking Caffe2 thread-pool after fork. (function pthreadpool)\n",
      "[W pthreadpool-cpp.cc:90] Warning: Leaking Caffe2 thread-pool after fork. (function pthreadpool)\n",
      "[W pthreadpool-cpp.cc:90] Warning: Leaking Caffe2 thread-pool after fork. (function pthreadpool)\n",
      "[W pthreadpool-cpp.cc:90] Warning: Leaking Caffe2 thread-pool after fork. (function pthreadpool)\n",
      "[W pthreadpool-cpp.cc:90] Warning: Leaking Caffe2 thread-pool after fork. (function pthreadpool)\n",
      "[W pthreadpool-cpp.cc:90] Warning: Leaking Caffe2 thread-pool after fork. (function pthreadpool)\n"
     ]
    },
    {
     "name": "stdout",
     "output_type": "stream",
     "text": [
      "valid (3/100) accuracy: 0.3812316656112671 | accuracy/std: 0.05651231439465713 | accuracy01: 0.3812316656112671 | accuracy01/std: 0.05651231439465713 | accuracy03: 0.730205237865448 | accuracy03/std: 0.060271958236356185 | accuracy05: 0.9057917594909668 | accuracy05/std: 0.035353983858206234 | loss: 1.654166340827942 | loss/mean: 1.654166340827942 | loss/std: 0.06147619508238948 | lr: 1e-05 | momentum: 0.9\n",
      "* Epoch (3/100) lr: 1e-05 | momentum: 0.9\n"
     ]
    },
    {
     "data": {
      "application/vnd.jupyter.widget-view+json": {
       "model_id": "2598ff171dad428e9eedd099f5e573a3",
       "version_major": 2,
       "version_minor": 0
      },
      "text/plain": [
       "4/100 * Epoch (train):   0%|          | 0/121 [00:00<?, ?it/s]"
      ]
     },
     "metadata": {},
     "output_type": "display_data"
    },
    {
     "name": "stderr",
     "output_type": "stream",
     "text": [
      "[W pthreadpool-cpp.cc:90] Warning: Leaking Caffe2 thread-pool after fork. (function pthreadpool)\n",
      "[W pthreadpool-cpp.cc:90] Warning: Leaking Caffe2 thread-pool after fork. (function pthreadpool)\n",
      "[W pthreadpool-cpp.cc:90] Warning: Leaking Caffe2 thread-pool after fork. (function pthreadpool)\n",
      "[W pthreadpool-cpp.cc:90] Warning: Leaking Caffe2 thread-pool after fork. (function pthreadpool)\n",
      "[W pthreadpool-cpp.cc:90] Warning: Leaking Caffe2 thread-pool after fork. (function pthreadpool)\n",
      "[W pthreadpool-cpp.cc:90] Warning: Leaking Caffe2 thread-pool after fork. (function pthreadpool)\n"
     ]
    },
    {
     "name": "stdout",
     "output_type": "stream",
     "text": [
      "train (4/100) accuracy: 0.4140082597732544 | accuracy/std: 0.032592689064304736 | accuracy01: 0.4140082597732544 | accuracy01/std: 0.032592689064304736 | accuracy03: 0.754917323589325 | accuracy03/std: 0.028884685578012263 | accuracy05: 0.9109503626823425 | accuracy05/std: 0.02058399684257781 | loss: 1.587618112564087 | loss/mean: 1.587618112564087 | loss/std: 0.037835378643761595 | lr: 1e-05 | momentum: 0.9\n"
     ]
    },
    {
     "data": {
      "application/vnd.jupyter.widget-view+json": {
       "model_id": "1010e62901e8402487cd20e4cab6f404",
       "version_major": 2,
       "version_minor": 0
      },
      "text/plain": [
       "4/100 * Epoch (valid):   0%|          | 0/14 [00:00<?, ?it/s]"
      ]
     },
     "metadata": {},
     "output_type": "display_data"
    },
    {
     "name": "stderr",
     "output_type": "stream",
     "text": [
      "[W pthreadpool-cpp.cc:90] Warning: Leaking Caffe2 thread-pool after fork. (function pthreadpool)\n",
      "[W pthreadpool-cpp.cc:90] Warning: Leaking Caffe2 thread-pool after fork. (function pthreadpool)\n",
      "[W pthreadpool-cpp.cc:90] Warning: Leaking Caffe2 thread-pool after fork. (function pthreadpool)\n",
      "[W pthreadpool-cpp.cc:90] Warning: Leaking Caffe2 thread-pool after fork. (function pthreadpool)\n",
      "[W pthreadpool-cpp.cc:90] Warning: Leaking Caffe2 thread-pool after fork. (function pthreadpool)\n",
      "[W pthreadpool-cpp.cc:90] Warning: Leaking Caffe2 thread-pool after fork. (function pthreadpool)\n"
     ]
    },
    {
     "name": "stdout",
     "output_type": "stream",
     "text": [
      "valid (4/100) accuracy: 0.4164222776889801 | accuracy/std: 0.05938053160518922 | accuracy01: 0.4164222776889801 | accuracy01/std: 0.05938053160518922 | accuracy03: 0.7518328428268433 | accuracy03/std: 0.05673764595664444 | accuracy05: 0.9112902879714966 | accuracy05/std: 0.034322884851592496 | loss: 1.5884655714035034 | loss/mean: 1.5884655714035034 | loss/std: 0.06645577821209628 | lr: 1e-05 | momentum: 0.9\n",
      "* Epoch (4/100) lr: 1e-05 | momentum: 0.9\n"
     ]
    },
    {
     "data": {
      "application/vnd.jupyter.widget-view+json": {
       "model_id": "cf44b9c3be49424b88f9f7a82e6f5f5e",
       "version_major": 2,
       "version_minor": 0
      },
      "text/plain": [
       "5/100 * Epoch (train):   0%|          | 0/121 [00:00<?, ?it/s]"
      ]
     },
     "metadata": {},
     "output_type": "display_data"
    },
    {
     "name": "stderr",
     "output_type": "stream",
     "text": [
      "[W pthreadpool-cpp.cc:90] Warning: Leaking Caffe2 thread-pool after fork. (function pthreadpool)\n",
      "[W pthreadpool-cpp.cc:90] Warning: Leaking Caffe2 thread-pool after fork. (function pthreadpool)\n",
      "[W pthreadpool-cpp.cc:90] Warning: Leaking Caffe2 thread-pool after fork. (function pthreadpool)\n",
      "[W pthreadpool-cpp.cc:90] Warning: Leaking Caffe2 thread-pool after fork. (function pthreadpool)\n",
      "[W pthreadpool-cpp.cc:90] Warning: Leaking Caffe2 thread-pool after fork. (function pthreadpool)\n",
      "[W pthreadpool-cpp.cc:90] Warning: Leaking Caffe2 thread-pool after fork. (function pthreadpool)\n"
     ]
    },
    {
     "name": "stdout",
     "output_type": "stream",
     "text": [
      "train (5/100) accuracy: 0.44694215059280396 | accuracy/std: 0.03271135144878322 | accuracy01: 0.44694215059280396 | accuracy01/std: 0.03271135144878322 | accuracy03: 0.7684297561645508 | accuracy03/std: 0.024971843381381077 | accuracy05: 0.9193801283836365 | accuracy05/std: 0.01946185764158835 | loss: 1.5330225229263306 | loss/mean: 1.5330225229263306 | loss/std: 0.03752985643914849 | lr: 1e-05 | momentum: 0.9\n"
     ]
    },
    {
     "data": {
      "application/vnd.jupyter.widget-view+json": {
       "model_id": "0116863f9cee48d5bef896004d6b7696",
       "version_major": 2,
       "version_minor": 0
      },
      "text/plain": [
       "5/100 * Epoch (valid):   0%|          | 0/14 [00:00<?, ?it/s]"
      ]
     },
     "metadata": {},
     "output_type": "display_data"
    },
    {
     "name": "stderr",
     "output_type": "stream",
     "text": [
      "[W pthreadpool-cpp.cc:90] Warning: Leaking Caffe2 thread-pool after fork. (function pthreadpool)\n",
      "[W pthreadpool-cpp.cc:90] Warning: Leaking Caffe2 thread-pool after fork. (function pthreadpool)\n",
      "[W pthreadpool-cpp.cc:90] Warning: Leaking Caffe2 thread-pool after fork. (function pthreadpool)\n",
      "[W pthreadpool-cpp.cc:90] Warning: Leaking Caffe2 thread-pool after fork. (function pthreadpool)\n",
      "[W pthreadpool-cpp.cc:90] Warning: Leaking Caffe2 thread-pool after fork. (function pthreadpool)\n",
      "[W pthreadpool-cpp.cc:90] Warning: Leaking Caffe2 thread-pool after fork. (function pthreadpool)\n"
     ]
    },
    {
     "name": "stdout",
     "output_type": "stream",
     "text": [
      "valid (5/100) accuracy: 0.40615835785865784 | accuracy/std: 0.06127178141055206 | accuracy01: 0.40615835785865784 | accuracy01/std: 0.06127178141055206 | accuracy03: 0.729105532169342 | accuracy03/std: 0.058005175294466825 | accuracy05: 0.9138562679290771 | accuracy05/std: 0.029735617273253613 | loss: 1.5800970792770386 | loss/mean: 1.5800970792770386 | loss/std: 0.0785796314421919 | lr: 1e-05 | momentum: 0.9\n",
      "* Epoch (5/100) lr: 3e-06 | momentum: 0.9\n"
     ]
    },
    {
     "data": {
      "application/vnd.jupyter.widget-view+json": {
       "model_id": "ff741aa15e20415092fc3abd236d92a9",
       "version_major": 2,
       "version_minor": 0
      },
      "text/plain": [
       "6/100 * Epoch (train):   0%|          | 0/121 [00:00<?, ?it/s]"
      ]
     },
     "metadata": {},
     "output_type": "display_data"
    },
    {
     "name": "stderr",
     "output_type": "stream",
     "text": [
      "[W pthreadpool-cpp.cc:90] Warning: Leaking Caffe2 thread-pool after fork. (function pthreadpool)\n",
      "[W pthreadpool-cpp.cc:90] Warning: Leaking Caffe2 thread-pool after fork. (function pthreadpool)\n",
      "[W pthreadpool-cpp.cc:90] Warning: Leaking Caffe2 thread-pool after fork. (function pthreadpool)\n",
      "[W pthreadpool-cpp.cc:90] Warning: Leaking Caffe2 thread-pool after fork. (function pthreadpool)\n",
      "[W pthreadpool-cpp.cc:90] Warning: Leaking Caffe2 thread-pool after fork. (function pthreadpool)\n",
      "[W pthreadpool-cpp.cc:90] Warning: Leaking Caffe2 thread-pool after fork. (function pthreadpool)\n"
     ]
    },
    {
     "name": "stdout",
     "output_type": "stream",
     "text": [
      "train (6/100) accuracy: 0.4712809920310974 | accuracy/std: 0.03457921724886151 | accuracy01: 0.4712809920310974 | accuracy01/std: 0.03457921724886151 | accuracy03: 0.7885537147521973 | accuracy03/std: 0.028916533294123612 | accuracy05: 0.9254544973373413 | accuracy05/std: 0.018022406251843814 | loss: 1.4883413314819336 | loss/mean: 1.4883413314819336 | loss/std: 0.037952857374935936 | lr: 3e-06 | momentum: 0.9\n"
     ]
    },
    {
     "data": {
      "application/vnd.jupyter.widget-view+json": {
       "model_id": "bb04bbe7a5154a2bac0a490adf832d39",
       "version_major": 2,
       "version_minor": 0
      },
      "text/plain": [
       "6/100 * Epoch (valid):   0%|          | 0/14 [00:00<?, ?it/s]"
      ]
     },
     "metadata": {},
     "output_type": "display_data"
    },
    {
     "name": "stderr",
     "output_type": "stream",
     "text": [
      "[W pthreadpool-cpp.cc:90] Warning: Leaking Caffe2 thread-pool after fork. (function pthreadpool)\n",
      "[W pthreadpool-cpp.cc:90] Warning: Leaking Caffe2 thread-pool after fork. (function pthreadpool)\n",
      "[W pthreadpool-cpp.cc:90] Warning: Leaking Caffe2 thread-pool after fork. (function pthreadpool)\n",
      "[W pthreadpool-cpp.cc:90] Warning: Leaking Caffe2 thread-pool after fork. (function pthreadpool)\n",
      "[W pthreadpool-cpp.cc:90] Warning: Leaking Caffe2 thread-pool after fork. (function pthreadpool)\n",
      "[W pthreadpool-cpp.cc:90] Warning: Leaking Caffe2 thread-pool after fork. (function pthreadpool)\n"
     ]
    },
    {
     "name": "stdout",
     "output_type": "stream",
     "text": [
      "valid (6/100) accuracy: 0.43438416719436646 | accuracy/std: 0.06500987941543301 | accuracy01: 0.43438416719436646 | accuracy01/std: 0.06500987941543301 | accuracy03: 0.7727272510528564 | accuracy03/std: 0.05828410317056127 | accuracy05: 0.9164222478866577 | accuracy05/std: 0.039404629101214096 | loss: 1.541047215461731 | loss/mean: 1.541047215461731 | loss/std: 0.07697135211151089 | lr: 3e-06 | momentum: 0.9\n",
      "* Epoch (6/100) lr: 3e-06 | momentum: 0.9\n"
     ]
    },
    {
     "data": {
      "application/vnd.jupyter.widget-view+json": {
       "model_id": "ff8c3eabd0fe402bab2cf5f6fe41e480",
       "version_major": 2,
       "version_minor": 0
      },
      "text/plain": [
       "7/100 * Epoch (train):   0%|          | 0/121 [00:00<?, ?it/s]"
      ]
     },
     "metadata": {},
     "output_type": "display_data"
    },
    {
     "name": "stderr",
     "output_type": "stream",
     "text": [
      "[W pthreadpool-cpp.cc:90] Warning: Leaking Caffe2 thread-pool after fork. (function pthreadpool)\n",
      "[W pthreadpool-cpp.cc:90] Warning: Leaking Caffe2 thread-pool after fork. (function pthreadpool)\n",
      "[W pthreadpool-cpp.cc:90] Warning: Leaking Caffe2 thread-pool after fork. (function pthreadpool)\n",
      "[W pthreadpool-cpp.cc:90] Warning: Leaking Caffe2 thread-pool after fork. (function pthreadpool)\n",
      "[W pthreadpool-cpp.cc:90] Warning: Leaking Caffe2 thread-pool after fork. (function pthreadpool)\n",
      "[W pthreadpool-cpp.cc:90] Warning: Leaking Caffe2 thread-pool after fork. (function pthreadpool)\n"
     ]
    },
    {
     "name": "stdout",
     "output_type": "stream",
     "text": [
      "train (7/100) accuracy: 0.4801652729511261 | accuracy/std: 0.03427556565239818 | accuracy01: 0.4801652729511261 | accuracy01/std: 0.03427556565239818 | accuracy03: 0.7971073985099792 | accuracy03/std: 0.026882237431419483 | accuracy05: 0.9291322231292725 | accuracy05/std: 0.017938260625691236 | loss: 1.4705837965011597 | loss/mean: 1.4705837965011597 | loss/std: 0.03731291867697181 | lr: 3e-06 | momentum: 0.9\n"
     ]
    },
    {
     "data": {
      "application/vnd.jupyter.widget-view+json": {
       "model_id": "7b3abf5942ca4c1f8444882e3aab56ea",
       "version_major": 2,
       "version_minor": 0
      },
      "text/plain": [
       "7/100 * Epoch (valid):   0%|          | 0/14 [00:00<?, ?it/s]"
      ]
     },
     "metadata": {},
     "output_type": "display_data"
    },
    {
     "name": "stderr",
     "output_type": "stream",
     "text": [
      "[W pthreadpool-cpp.cc:90] Warning: Leaking Caffe2 thread-pool after fork. (function pthreadpool)\n",
      "[W pthreadpool-cpp.cc:90] Warning: Leaking Caffe2 thread-pool after fork. (function pthreadpool)\n",
      "[W pthreadpool-cpp.cc:90] Warning: Leaking Caffe2 thread-pool after fork. (function pthreadpool)\n",
      "[W pthreadpool-cpp.cc:90] Warning: Leaking Caffe2 thread-pool after fork. (function pthreadpool)\n",
      "[W pthreadpool-cpp.cc:90] Warning: Leaking Caffe2 thread-pool after fork. (function pthreadpool)\n",
      "[W pthreadpool-cpp.cc:90] Warning: Leaking Caffe2 thread-pool after fork. (function pthreadpool)\n"
     ]
    },
    {
     "name": "stdout",
     "output_type": "stream",
     "text": [
      "valid (7/100) accuracy: 0.4376832842826843 | accuracy/std: 0.06092271232191485 | accuracy01: 0.4376832842826843 | accuracy01/std: 0.06092271232191485 | accuracy03: 0.7756597995758057 | accuracy03/std: 0.05130895260566496 | accuracy05: 0.918255090713501 | accuracy05/std: 0.03270141961336966 | loss: 1.5365263223648071 | loss/mean: 1.5365263223648071 | loss/std: 0.07395101039995008 | lr: 3e-06 | momentum: 0.9\n",
      "* Epoch (7/100) lr: 3e-06 | momentum: 0.9\n"
     ]
    },
    {
     "data": {
      "application/vnd.jupyter.widget-view+json": {
       "model_id": "02c8cecb052a4e59ab5c43bc66413b56",
       "version_major": 2,
       "version_minor": 0
      },
      "text/plain": [
       "8/100 * Epoch (train):   0%|          | 0/121 [00:00<?, ?it/s]"
      ]
     },
     "metadata": {},
     "output_type": "display_data"
    },
    {
     "name": "stderr",
     "output_type": "stream",
     "text": [
      "[W pthreadpool-cpp.cc:90] Warning: Leaking Caffe2 thread-pool after fork. (function pthreadpool)\n",
      "[W pthreadpool-cpp.cc:90] Warning: Leaking Caffe2 thread-pool after fork. (function pthreadpool)\n",
      "[W pthreadpool-cpp.cc:90] Warning: Leaking Caffe2 thread-pool after fork. (function pthreadpool)\n",
      "[W pthreadpool-cpp.cc:90] Warning: Leaking Caffe2 thread-pool after fork. (function pthreadpool)\n",
      "[W pthreadpool-cpp.cc:90] Warning: Leaking Caffe2 thread-pool after fork. (function pthreadpool)\n",
      "[W pthreadpool-cpp.cc:90] Warning: Leaking Caffe2 thread-pool after fork. (function pthreadpool)\n"
     ]
    },
    {
     "name": "stdout",
     "output_type": "stream",
     "text": [
      "train (8/100) accuracy: 0.4889669418334961 | accuracy/std: 0.034329678123639754 | accuracy01: 0.4889669418334961 | accuracy01/std: 0.034329678123639754 | accuracy03: 0.7990495562553406 | accuracy03/std: 0.02906531923646376 | accuracy05: 0.9314875602722168 | accuracy05/std: 0.016472771351027565 | loss: 1.456018328666687 | loss/mean: 1.456018328666687 | loss/std: 0.039399105082403026 | lr: 3e-06 | momentum: 0.9\n"
     ]
    },
    {
     "data": {
      "application/vnd.jupyter.widget-view+json": {
       "model_id": "bcc8b68c3c3c41f58e8d1b27fa93f1a7",
       "version_major": 2,
       "version_minor": 0
      },
      "text/plain": [
       "8/100 * Epoch (valid):   0%|          | 0/14 [00:00<?, ?it/s]"
      ]
     },
     "metadata": {},
     "output_type": "display_data"
    },
    {
     "name": "stderr",
     "output_type": "stream",
     "text": [
      "[W pthreadpool-cpp.cc:90] Warning: Leaking Caffe2 thread-pool after fork. (function pthreadpool)\n",
      "[W pthreadpool-cpp.cc:90] Warning: Leaking Caffe2 thread-pool after fork. (function pthreadpool)\n",
      "[W pthreadpool-cpp.cc:90] Warning: Leaking Caffe2 thread-pool after fork. (function pthreadpool)\n",
      "[W pthreadpool-cpp.cc:90] Warning: Leaking Caffe2 thread-pool after fork. (function pthreadpool)\n",
      "[W pthreadpool-cpp.cc:90] Warning: Leaking Caffe2 thread-pool after fork. (function pthreadpool)\n",
      "[W pthreadpool-cpp.cc:90] Warning: Leaking Caffe2 thread-pool after fork. (function pthreadpool)\n"
     ]
    },
    {
     "name": "stdout",
     "output_type": "stream",
     "text": [
      "valid (8/100) accuracy: 0.4439149498939514 | accuracy/std: 0.061989348417675345 | accuracy01: 0.4439149498939514 | accuracy01/std: 0.061989348417675345 | accuracy03: 0.7705278396606445 | accuracy03/std: 0.05023483363770739 | accuracy05: 0.917155385017395 | accuracy05/std: 0.028755761555540427 | loss: 1.5388213396072388 | loss/mean: 1.5388213396072388 | loss/std: 0.0731244419702955 | lr: 3e-06 | momentum: 0.9\n",
      "* Epoch (8/100) lr: 3e-06 | momentum: 0.9\n"
     ]
    },
    {
     "data": {
      "application/vnd.jupyter.widget-view+json": {
       "model_id": "08939aff5f8a401a8a89668d55acac59",
       "version_major": 2,
       "version_minor": 0
      },
      "text/plain": [
       "9/100 * Epoch (train):   0%|          | 0/121 [00:00<?, ?it/s]"
      ]
     },
     "metadata": {},
     "output_type": "display_data"
    },
    {
     "name": "stderr",
     "output_type": "stream",
     "text": [
      "[W pthreadpool-cpp.cc:90] Warning: Leaking Caffe2 thread-pool after fork. (function pthreadpool)\n",
      "[W pthreadpool-cpp.cc:90] Warning: Leaking Caffe2 thread-pool after fork. (function pthreadpool)\n",
      "[W pthreadpool-cpp.cc:90] Warning: Leaking Caffe2 thread-pool after fork. (function pthreadpool)\n",
      "[W pthreadpool-cpp.cc:90] Warning: Leaking Caffe2 thread-pool after fork. (function pthreadpool)\n",
      "[W pthreadpool-cpp.cc:90] Warning: Leaking Caffe2 thread-pool after fork. (function pthreadpool)\n",
      "[W pthreadpool-cpp.cc:90] Warning: Leaking Caffe2 thread-pool after fork. (function pthreadpool)\n"
     ]
    },
    {
     "name": "stdout",
     "output_type": "stream",
     "text": [
      "train (9/100) accuracy: 0.49739667773246765 | accuracy/std: 0.035508264022831214 | accuracy01: 0.49739667773246765 | accuracy01/std: 0.035508264022831214 | accuracy03: 0.8064875602722168 | accuracy03/std: 0.027669248638922048 | accuracy05: 0.9314875602722168 | accuracy05/std: 0.016610173530330428 | loss: 1.4439879655838013 | loss/mean: 1.4439879655838013 | loss/std: 0.03609769093792133 | lr: 3e-06 | momentum: 0.9\n"
     ]
    },
    {
     "data": {
      "application/vnd.jupyter.widget-view+json": {
       "model_id": "8900606c24804ada9bbcd35dab6acc63",
       "version_major": 2,
       "version_minor": 0
      },
      "text/plain": [
       "9/100 * Epoch (valid):   0%|          | 0/14 [00:00<?, ?it/s]"
      ]
     },
     "metadata": {},
     "output_type": "display_data"
    },
    {
     "name": "stderr",
     "output_type": "stream",
     "text": [
      "[W pthreadpool-cpp.cc:90] Warning: Leaking Caffe2 thread-pool after fork. (function pthreadpool)\n",
      "[W pthreadpool-cpp.cc:90] Warning: Leaking Caffe2 thread-pool after fork. (function pthreadpool)\n",
      "[W pthreadpool-cpp.cc:90] Warning: Leaking Caffe2 thread-pool after fork. (function pthreadpool)\n",
      "[W pthreadpool-cpp.cc:90] Warning: Leaking Caffe2 thread-pool after fork. (function pthreadpool)\n",
      "[W pthreadpool-cpp.cc:90] Warning: Leaking Caffe2 thread-pool after fork. (function pthreadpool)\n",
      "[W pthreadpool-cpp.cc:90] Warning: Leaking Caffe2 thread-pool after fork. (function pthreadpool)\n"
     ]
    },
    {
     "name": "stdout",
     "output_type": "stream",
     "text": [
      "valid (9/100) accuracy: 0.4431818127632141 | accuracy/std: 0.06217985730380147 | accuracy01: 0.4431818127632141 | accuracy01/std: 0.06217985730380147 | accuracy03: 0.7778592109680176 | accuracy03/std: 0.05430730702487462 | accuracy05: 0.9200879335403442 | accuracy05/std: 0.03514952375442443 | loss: 1.5286014080047607 | loss/mean: 1.5286014080047607 | loss/std: 0.07835572499741622 | lr: 3e-06 | momentum: 0.9\n",
      "* Epoch (9/100) lr: 9e-07 | momentum: 0.9\n"
     ]
    },
    {
     "data": {
      "application/vnd.jupyter.widget-view+json": {
       "model_id": "344ce182cf0d4db49e349ec0dacbe9e3",
       "version_major": 2,
       "version_minor": 0
      },
      "text/plain": [
       "10/100 * Epoch (train):   0%|          | 0/121 [00:00<?, ?it/s]"
      ]
     },
     "metadata": {},
     "output_type": "display_data"
    },
    {
     "name": "stderr",
     "output_type": "stream",
     "text": [
      "[W pthreadpool-cpp.cc:90] Warning: Leaking Caffe2 thread-pool after fork. (function pthreadpool)\n",
      "[W pthreadpool-cpp.cc:90] Warning: Leaking Caffe2 thread-pool after fork. (function pthreadpool)\n",
      "[W pthreadpool-cpp.cc:90] Warning: Leaking Caffe2 thread-pool after fork. (function pthreadpool)\n",
      "[W pthreadpool-cpp.cc:90] Warning: Leaking Caffe2 thread-pool after fork. (function pthreadpool)\n",
      "[W pthreadpool-cpp.cc:90] Warning: Leaking Caffe2 thread-pool after fork. (function pthreadpool)\n",
      "[W pthreadpool-cpp.cc:90] Warning: Leaking Caffe2 thread-pool after fork. (function pthreadpool)\n"
     ]
    },
    {
     "name": "stdout",
     "output_type": "stream",
     "text": [
      "train (10/100) accuracy: 0.5049586892127991 | accuracy/std: 0.033213595981906756 | accuracy01: 0.5049586892127991 | accuracy01/std: 0.033213595981906756 | accuracy03: 0.8107024431228638 | accuracy03/std: 0.025449437171277647 | accuracy05: 0.9343801736831665 | accuracy05/std: 0.016496906122074124 | loss: 1.42825448513031 | loss/mean: 1.42825448513031 | loss/std: 0.03489569049322276 | lr: 9e-07 | momentum: 0.9\n"
     ]
    },
    {
     "data": {
      "application/vnd.jupyter.widget-view+json": {
       "model_id": "0c08edfe14434340912c10af025dea1c",
       "version_major": 2,
       "version_minor": 0
      },
      "text/plain": [
       "10/100 * Epoch (valid):   0%|          | 0/14 [00:00<?, ?it/s]"
      ]
     },
     "metadata": {},
     "output_type": "display_data"
    },
    {
     "name": "stderr",
     "output_type": "stream",
     "text": [
      "[W pthreadpool-cpp.cc:90] Warning: Leaking Caffe2 thread-pool after fork. (function pthreadpool)\n",
      "[W pthreadpool-cpp.cc:90] Warning: Leaking Caffe2 thread-pool after fork. (function pthreadpool)\n",
      "[W pthreadpool-cpp.cc:90] Warning: Leaking Caffe2 thread-pool after fork. (function pthreadpool)\n",
      "[W pthreadpool-cpp.cc:90] Warning: Leaking Caffe2 thread-pool after fork. (function pthreadpool)\n",
      "[W pthreadpool-cpp.cc:90] Warning: Leaking Caffe2 thread-pool after fork. (function pthreadpool)\n",
      "[W pthreadpool-cpp.cc:90] Warning: Leaking Caffe2 thread-pool after fork. (function pthreadpool)\n"
     ]
    },
    {
     "name": "stdout",
     "output_type": "stream",
     "text": [
      "valid (10/100) accuracy: 0.4417155385017395 | accuracy/std: 0.059236740541691035 | accuracy01: 0.4417155385017395 | accuracy01/std: 0.059236740541691035 | accuracy03: 0.7793254852294922 | accuracy03/std: 0.05166558794180339 | accuracy05: 0.9193547964096069 | accuracy05/std: 0.036380592470798466 | loss: 1.522512435913086 | loss/mean: 1.522512435913086 | loss/std: 0.07713511633191962 | lr: 9e-07 | momentum: 0.9\n",
      "* Epoch (10/100) lr: 2.6999999999999996e-07 | momentum: 0.9\n"
     ]
    },
    {
     "data": {
      "application/vnd.jupyter.widget-view+json": {
       "model_id": "d50d03312920490aa3f0fed58b923032",
       "version_major": 2,
       "version_minor": 0
      },
      "text/plain": [
       "11/100 * Epoch (train):   0%|          | 0/121 [00:00<?, ?it/s]"
      ]
     },
     "metadata": {},
     "output_type": "display_data"
    },
    {
     "name": "stderr",
     "output_type": "stream",
     "text": [
      "[W pthreadpool-cpp.cc:90] Warning: Leaking Caffe2 thread-pool after fork. (function pthreadpool)\n",
      "[W pthreadpool-cpp.cc:90] Warning: Leaking Caffe2 thread-pool after fork. (function pthreadpool)\n",
      "[W pthreadpool-cpp.cc:90] Warning: Leaking Caffe2 thread-pool after fork. (function pthreadpool)\n",
      "[W pthreadpool-cpp.cc:90] Warning: Leaking Caffe2 thread-pool after fork. (function pthreadpool)\n",
      "[W pthreadpool-cpp.cc:90] Warning: Leaking Caffe2 thread-pool after fork. (function pthreadpool)\n",
      "[W pthreadpool-cpp.cc:90] Warning: Leaking Caffe2 thread-pool after fork. (function pthreadpool)\n"
     ]
    },
    {
     "name": "stdout",
     "output_type": "stream",
     "text": [
      "train (11/100) accuracy: 0.509173572063446 | accuracy/std: 0.038222344859820095 | accuracy01: 0.509173572063446 | accuracy01/std: 0.038222344859820095 | accuracy03: 0.8140082359313965 | accuracy03/std: 0.030313183487184876 | accuracy05: 0.934876024723053 | accuracy05/std: 0.017668836909127347 | loss: 1.4243310689926147 | loss/mean: 1.4243310689926147 | loss/std: 0.042810205147649404 | lr: 2.6999999999999996e-07 | momentum: 0.9\n"
     ]
    },
    {
     "data": {
      "application/vnd.jupyter.widget-view+json": {
       "model_id": "0e58053a6c7f47ec9b5dba32627ab7cf",
       "version_major": 2,
       "version_minor": 0
      },
      "text/plain": [
       "11/100 * Epoch (valid):   0%|          | 0/14 [00:00<?, ?it/s]"
      ]
     },
     "metadata": {},
     "output_type": "display_data"
    },
    {
     "name": "stderr",
     "output_type": "stream",
     "text": [
      "[W pthreadpool-cpp.cc:90] Warning: Leaking Caffe2 thread-pool after fork. (function pthreadpool)\n",
      "[W pthreadpool-cpp.cc:90] Warning: Leaking Caffe2 thread-pool after fork. (function pthreadpool)\n",
      "[W pthreadpool-cpp.cc:90] Warning: Leaking Caffe2 thread-pool after fork. (function pthreadpool)\n",
      "[W pthreadpool-cpp.cc:90] Warning: Leaking Caffe2 thread-pool after fork. (function pthreadpool)\n",
      "[W pthreadpool-cpp.cc:90] Warning: Leaking Caffe2 thread-pool after fork. (function pthreadpool)\n",
      "[W pthreadpool-cpp.cc:90] Warning: Leaking Caffe2 thread-pool after fork. (function pthreadpool)\n"
     ]
    },
    {
     "name": "stdout",
     "output_type": "stream",
     "text": [
      "valid (11/100) accuracy: 0.445381224155426 | accuracy/std: 0.061422009371873074 | accuracy01: 0.445381224155426 | accuracy01/std: 0.061422009371873074 | accuracy03: 0.7804251909255981 | accuracy03/std: 0.05013625281737975 | accuracy05: 0.9193547964096069 | accuracy05/std: 0.03509149950598452 | loss: 1.5239559412002563 | loss/mean: 1.5239559412002563 | loss/std: 0.07525043532643637 | lr: 2.6999999999999996e-07 | momentum: 0.9\n",
      "* Epoch (11/100) lr: 2.6999999999999996e-07 | momentum: 0.9\n"
     ]
    },
    {
     "data": {
      "application/vnd.jupyter.widget-view+json": {
       "model_id": "1c5a186e4c184e149433b85b87c52b8d",
       "version_major": 2,
       "version_minor": 0
      },
      "text/plain": [
       "12/100 * Epoch (train):   0%|          | 0/121 [00:00<?, ?it/s]"
      ]
     },
     "metadata": {},
     "output_type": "display_data"
    },
    {
     "name": "stderr",
     "output_type": "stream",
     "text": [
      "[W pthreadpool-cpp.cc:90] Warning: Leaking Caffe2 thread-pool after fork. (function pthreadpool)\n",
      "[W pthreadpool-cpp.cc:90] Warning: Leaking Caffe2 thread-pool after fork. (function pthreadpool)\n",
      "[W pthreadpool-cpp.cc:90] Warning: Leaking Caffe2 thread-pool after fork. (function pthreadpool)\n",
      "[W pthreadpool-cpp.cc:90] Warning: Leaking Caffe2 thread-pool after fork. (function pthreadpool)\n",
      "[W pthreadpool-cpp.cc:90] Warning: Leaking Caffe2 thread-pool after fork. (function pthreadpool)\n",
      "[W pthreadpool-cpp.cc:90] Warning: Leaking Caffe2 thread-pool after fork. (function pthreadpool)\n"
     ]
    },
    {
     "name": "stdout",
     "output_type": "stream",
     "text": [
      "train (12/100) accuracy: 0.513801634311676 | accuracy/std: 0.036187960587956924 | accuracy01: 0.513801634311676 | accuracy01/std: 0.036187960587956924 | accuracy03: 0.8127685785293579 | accuracy03/std: 0.025218172593391437 | accuracy05: 0.9332231283187866 | accuracy05/std: 0.01721148970954919 | loss: 1.4205131530761719 | loss/mean: 1.4205131530761719 | loss/std: 0.04199124491405027 | lr: 2.6999999999999996e-07 | momentum: 0.9\n"
     ]
    },
    {
     "data": {
      "application/vnd.jupyter.widget-view+json": {
       "model_id": "c69635415482425492dae2da0355aae2",
       "version_major": 2,
       "version_minor": 0
      },
      "text/plain": [
       "12/100 * Epoch (valid):   0%|          | 0/14 [00:00<?, ?it/s]"
      ]
     },
     "metadata": {},
     "output_type": "display_data"
    },
    {
     "name": "stderr",
     "output_type": "stream",
     "text": [
      "[W pthreadpool-cpp.cc:90] Warning: Leaking Caffe2 thread-pool after fork. (function pthreadpool)\n",
      "[W pthreadpool-cpp.cc:90] Warning: Leaking Caffe2 thread-pool after fork. (function pthreadpool)\n",
      "[W pthreadpool-cpp.cc:90] Warning: Leaking Caffe2 thread-pool after fork. (function pthreadpool)\n",
      "[W pthreadpool-cpp.cc:90] Warning: Leaking Caffe2 thread-pool after fork. (function pthreadpool)\n",
      "[W pthreadpool-cpp.cc:90] Warning: Leaking Caffe2 thread-pool after fork. (function pthreadpool)\n",
      "[W pthreadpool-cpp.cc:90] Warning: Leaking Caffe2 thread-pool after fork. (function pthreadpool)\n"
     ]
    },
    {
     "name": "stdout",
     "output_type": "stream",
     "text": [
      "valid (12/100) accuracy: 0.4450146555900574 | accuracy/std: 0.058346136142277946 | accuracy01: 0.4450146555900574 | accuracy01/std: 0.058346136142277946 | accuracy03: 0.7796920537948608 | accuracy03/std: 0.05093641736800683 | accuracy05: 0.9175219535827637 | accuracy05/std: 0.03363592676755082 | loss: 1.5224578380584717 | loss/mean: 1.5224578380584717 | loss/std: 0.07628357977977113 | lr: 2.6999999999999996e-07 | momentum: 0.9\n",
      "* Epoch (12/100) lr: 8.099999999999998e-08 | momentum: 0.9\n"
     ]
    },
    {
     "data": {
      "application/vnd.jupyter.widget-view+json": {
       "model_id": "dc233994494141238e743595a2a85ce1",
       "version_major": 2,
       "version_minor": 0
      },
      "text/plain": [
       "13/100 * Epoch (train):   0%|          | 0/121 [00:00<?, ?it/s]"
      ]
     },
     "metadata": {},
     "output_type": "display_data"
    },
    {
     "name": "stderr",
     "output_type": "stream",
     "text": [
      "[W pthreadpool-cpp.cc:90] Warning: Leaking Caffe2 thread-pool after fork. (function pthreadpool)\n",
      "[W pthreadpool-cpp.cc:90] Warning: Leaking Caffe2 thread-pool after fork. (function pthreadpool)\n",
      "[W pthreadpool-cpp.cc:90] Warning: Leaking Caffe2 thread-pool after fork. (function pthreadpool)\n",
      "[W pthreadpool-cpp.cc:90] Warning: Leaking Caffe2 thread-pool after fork. (function pthreadpool)\n",
      "[W pthreadpool-cpp.cc:90] Warning: Leaking Caffe2 thread-pool after fork. (function pthreadpool)\n",
      "[W pthreadpool-cpp.cc:90] Warning: Leaking Caffe2 thread-pool after fork. (function pthreadpool)\n"
     ]
    },
    {
     "name": "stdout",
     "output_type": "stream",
     "text": [
      "train (13/100) accuracy: 0.5102892518043518 | accuracy/std: 0.03773241927962607 | accuracy01: 0.5102892518043518 | accuracy01/std: 0.03773241927962607 | accuracy03: 0.8149173259735107 | accuracy03/std: 0.028160274741664177 | accuracy05: 0.9342561960220337 | accuracy05/std: 0.0178803833457881 | loss: 1.418895959854126 | loss/mean: 1.418895959854126 | loss/std: 0.04260233262105297 | lr: 8.099999999999998e-08 | momentum: 0.9\n"
     ]
    },
    {
     "data": {
      "application/vnd.jupyter.widget-view+json": {
       "model_id": "26f7845eec28433a90368fa6a576a772",
       "version_major": 2,
       "version_minor": 0
      },
      "text/plain": [
       "13/100 * Epoch (valid):   0%|          | 0/14 [00:00<?, ?it/s]"
      ]
     },
     "metadata": {},
     "output_type": "display_data"
    },
    {
     "name": "stderr",
     "output_type": "stream",
     "text": [
      "[W pthreadpool-cpp.cc:90] Warning: Leaking Caffe2 thread-pool after fork. (function pthreadpool)\n",
      "[W pthreadpool-cpp.cc:90] Warning: Leaking Caffe2 thread-pool after fork. (function pthreadpool)\n",
      "[W pthreadpool-cpp.cc:90] Warning: Leaking Caffe2 thread-pool after fork. (function pthreadpool)\n",
      "[W pthreadpool-cpp.cc:90] Warning: Leaking Caffe2 thread-pool after fork. (function pthreadpool)\n",
      "[W pthreadpool-cpp.cc:90] Warning: Leaking Caffe2 thread-pool after fork. (function pthreadpool)\n",
      "[W pthreadpool-cpp.cc:90] Warning: Leaking Caffe2 thread-pool after fork. (function pthreadpool)\n"
     ]
    },
    {
     "name": "stdout",
     "output_type": "stream",
     "text": [
      "valid (13/100) accuracy: 0.44904690980911255 | accuracy/std: 0.061766475946718906 | accuracy01: 0.44904690980911255 | accuracy01/std: 0.061766475946718906 | accuracy03: 0.7767595052719116 | accuracy03/std: 0.05467359197580905 | accuracy05: 0.9160556793212891 | accuracy05/std: 0.03729028422875346 | loss: 1.5200395584106445 | loss/mean: 1.5200395584106445 | loss/std: 0.07787070923231146 | lr: 8.099999999999998e-08 | momentum: 0.9\n",
      "* Epoch (13/100) lr: 8.099999999999998e-08 | momentum: 0.9\n"
     ]
    },
    {
     "data": {
      "application/vnd.jupyter.widget-view+json": {
       "model_id": "81f64678d2f84caab29ec7f7a5f19d21",
       "version_major": 2,
       "version_minor": 0
      },
      "text/plain": [
       "14/100 * Epoch (train):   0%|          | 0/121 [00:00<?, ?it/s]"
      ]
     },
     "metadata": {},
     "output_type": "display_data"
    },
    {
     "name": "stderr",
     "output_type": "stream",
     "text": [
      "[W pthreadpool-cpp.cc:90] Warning: Leaking Caffe2 thread-pool after fork. (function pthreadpool)\n",
      "[W pthreadpool-cpp.cc:90] Warning: Leaking Caffe2 thread-pool after fork. (function pthreadpool)\n",
      "[W pthreadpool-cpp.cc:90] Warning: Leaking Caffe2 thread-pool after fork. (function pthreadpool)\n",
      "[W pthreadpool-cpp.cc:90] Warning: Leaking Caffe2 thread-pool after fork. (function pthreadpool)\n",
      "[W pthreadpool-cpp.cc:90] Warning: Leaking Caffe2 thread-pool after fork. (function pthreadpool)\n",
      "[W pthreadpool-cpp.cc:90] Warning: Leaking Caffe2 thread-pool after fork. (function pthreadpool)\n"
     ]
    },
    {
     "name": "stdout",
     "output_type": "stream",
     "text": [
      "train (14/100) accuracy: 0.5082231163978577 | accuracy/std: 0.03335243158825965 | accuracy01: 0.5082231163978577 | accuracy01/std: 0.03335243158825965 | accuracy03: 0.8172313570976257 | accuracy03/std: 0.026340270775785494 | accuracy05: 0.934586763381958 | accuracy05/std: 0.018109173825086214 | loss: 1.4186409711837769 | loss/mean: 1.4186409711837769 | loss/std: 0.038657561471425135 | lr: 8.099999999999998e-08 | momentum: 0.9\n"
     ]
    },
    {
     "data": {
      "application/vnd.jupyter.widget-view+json": {
       "model_id": "086b1454ce654bd1907862f01da9e9e7",
       "version_major": 2,
       "version_minor": 0
      },
      "text/plain": [
       "14/100 * Epoch (valid):   0%|          | 0/14 [00:00<?, ?it/s]"
      ]
     },
     "metadata": {},
     "output_type": "display_data"
    },
    {
     "name": "stderr",
     "output_type": "stream",
     "text": [
      "[W pthreadpool-cpp.cc:90] Warning: Leaking Caffe2 thread-pool after fork. (function pthreadpool)\n",
      "[W pthreadpool-cpp.cc:90] Warning: Leaking Caffe2 thread-pool after fork. (function pthreadpool)\n",
      "[W pthreadpool-cpp.cc:90] Warning: Leaking Caffe2 thread-pool after fork. (function pthreadpool)\n",
      "[W pthreadpool-cpp.cc:90] Warning: Leaking Caffe2 thread-pool after fork. (function pthreadpool)\n",
      "[W pthreadpool-cpp.cc:90] Warning: Leaking Caffe2 thread-pool after fork. (function pthreadpool)\n",
      "[W pthreadpool-cpp.cc:90] Warning: Leaking Caffe2 thread-pool after fork. (function pthreadpool)\n"
     ]
    },
    {
     "name": "stdout",
     "output_type": "stream",
     "text": [
      "valid (14/100) accuracy: 0.44904690980911255 | accuracy/std: 0.06352259353224413 | accuracy01: 0.44904690980911255 | accuracy01/std: 0.06352259353224413 | accuracy03: 0.7793254852294922 | accuracy03/std: 0.052040181890817765 | accuracy05: 0.9204545021057129 | accuracy05/std: 0.03341511557667642 | loss: 1.522527813911438 | loss/mean: 1.522527813911438 | loss/std: 0.07668521614228045 | lr: 8.099999999999998e-08 | momentum: 0.9\n",
      "* Epoch (14/100) lr: 2.4299999999999996e-08 | momentum: 0.9\n"
     ]
    },
    {
     "data": {
      "application/vnd.jupyter.widget-view+json": {
       "model_id": "38306b0335ef4ca0800db1214ca1cdce",
       "version_major": 2,
       "version_minor": 0
      },
      "text/plain": [
       "15/100 * Epoch (train):   0%|          | 0/121 [00:00<?, ?it/s]"
      ]
     },
     "metadata": {},
     "output_type": "display_data"
    },
    {
     "name": "stderr",
     "output_type": "stream",
     "text": [
      "[W pthreadpool-cpp.cc:90] Warning: Leaking Caffe2 thread-pool after fork. (function pthreadpool)\n",
      "[W pthreadpool-cpp.cc:90] Warning: Leaking Caffe2 thread-pool after fork. (function pthreadpool)\n",
      "[W pthreadpool-cpp.cc:90] Warning: Leaking Caffe2 thread-pool after fork. (function pthreadpool)\n",
      "[W pthreadpool-cpp.cc:90] Warning: Leaking Caffe2 thread-pool after fork. (function pthreadpool)\n",
      "[W pthreadpool-cpp.cc:90] Warning: Leaking Caffe2 thread-pool after fork. (function pthreadpool)\n",
      "[W pthreadpool-cpp.cc:90] Warning: Leaking Caffe2 thread-pool after fork. (function pthreadpool)\n"
     ]
    },
    {
     "name": "stdout",
     "output_type": "stream",
     "text": [
      "train (15/100) accuracy: 0.511487603187561 | accuracy/std: 0.038039720917558535 | accuracy01: 0.511487603187561 | accuracy01/std: 0.038039720917558535 | accuracy03: 0.8152065873146057 | accuracy03/std: 0.030209244896655114 | accuracy05: 0.9357851147651672 | accuracy05/std: 0.01802249556752441 | loss: 1.4204844236373901 | loss/mean: 1.4204844236373901 | loss/std: 0.03808136416754734 | lr: 2.4299999999999996e-08 | momentum: 0.9\n"
     ]
    },
    {
     "data": {
      "application/vnd.jupyter.widget-view+json": {
       "model_id": "8f19325911af42d2bbf38df01606deaf",
       "version_major": 2,
       "version_minor": 0
      },
      "text/plain": [
       "15/100 * Epoch (valid):   0%|          | 0/14 [00:00<?, ?it/s]"
      ]
     },
     "metadata": {},
     "output_type": "display_data"
    },
    {
     "name": "stderr",
     "output_type": "stream",
     "text": [
      "[W pthreadpool-cpp.cc:90] Warning: Leaking Caffe2 thread-pool after fork. (function pthreadpool)\n",
      "[W pthreadpool-cpp.cc:90] Warning: Leaking Caffe2 thread-pool after fork. (function pthreadpool)\n",
      "[W pthreadpool-cpp.cc:90] Warning: Leaking Caffe2 thread-pool after fork. (function pthreadpool)\n",
      "[W pthreadpool-cpp.cc:90] Warning: Leaking Caffe2 thread-pool after fork. (function pthreadpool)\n",
      "[W pthreadpool-cpp.cc:90] Warning: Leaking Caffe2 thread-pool after fork. (function pthreadpool)\n",
      "[W pthreadpool-cpp.cc:90] Warning: Leaking Caffe2 thread-pool after fork. (function pthreadpool)\n"
     ]
    },
    {
     "name": "stdout",
     "output_type": "stream",
     "text": [
      "valid (15/100) accuracy: 0.4472140669822693 | accuracy/std: 0.060404685569799506 | accuracy01: 0.4472140669822693 | accuracy01/std: 0.060404685569799506 | accuracy03: 0.7793254852294922 | accuracy03/std: 0.049379244920794374 | accuracy05: 0.918255090713501 | accuracy05/std: 0.03666463589804401 | loss: 1.5238398313522339 | loss/mean: 1.5238398313522339 | loss/std: 0.07580607390248577 | lr: 2.4299999999999996e-08 | momentum: 0.9\n",
      "* Epoch (15/100) lr: 1e-08 | momentum: 0.9\n"
     ]
    },
    {
     "data": {
      "application/vnd.jupyter.widget-view+json": {
       "model_id": "46db6525b62c4e00a620627611820459",
       "version_major": 2,
       "version_minor": 0
      },
      "text/plain": [
       "16/100 * Epoch (train):   0%|          | 0/121 [00:00<?, ?it/s]"
      ]
     },
     "metadata": {},
     "output_type": "display_data"
    },
    {
     "name": "stderr",
     "output_type": "stream",
     "text": [
      "[W pthreadpool-cpp.cc:90] Warning: Leaking Caffe2 thread-pool after fork. (function pthreadpool)\n",
      "[W pthreadpool-cpp.cc:90] Warning: Leaking Caffe2 thread-pool after fork. (function pthreadpool)\n",
      "[W pthreadpool-cpp.cc:90] Warning: Leaking Caffe2 thread-pool after fork. (function pthreadpool)\n",
      "[W pthreadpool-cpp.cc:90] Warning: Leaking Caffe2 thread-pool after fork. (function pthreadpool)\n",
      "[W pthreadpool-cpp.cc:90] Warning: Leaking Caffe2 thread-pool after fork. (function pthreadpool)\n",
      "[W pthreadpool-cpp.cc:90] Warning: Leaking Caffe2 thread-pool after fork. (function pthreadpool)\n"
     ]
    },
    {
     "name": "stdout",
     "output_type": "stream",
     "text": [
      "train (16/100) accuracy: 0.5074793100357056 | accuracy/std: 0.0387792755011618 | accuracy01: 0.5074793100357056 | accuracy01/std: 0.0387792755011618 | accuracy03: 0.8140082359313965 | accuracy03/std: 0.02952591574854336 | accuracy05: 0.9353718757629395 | accuracy05/std: 0.014995705276235914 | loss: 1.4214107990264893 | loss/mean: 1.4214107990264893 | loss/std: 0.04589237072351637 | lr: 1e-08 | momentum: 0.9\n"
     ]
    },
    {
     "data": {
      "application/vnd.jupyter.widget-view+json": {
       "model_id": "ff0807f4e0d14c02aa9ec933fcd28e2a",
       "version_major": 2,
       "version_minor": 0
      },
      "text/plain": [
       "16/100 * Epoch (valid):   0%|          | 0/14 [00:00<?, ?it/s]"
      ]
     },
     "metadata": {},
     "output_type": "display_data"
    },
    {
     "name": "stderr",
     "output_type": "stream",
     "text": [
      "[W pthreadpool-cpp.cc:90] Warning: Leaking Caffe2 thread-pool after fork. (function pthreadpool)\n",
      "[W pthreadpool-cpp.cc:90] Warning: Leaking Caffe2 thread-pool after fork. (function pthreadpool)\n",
      "[W pthreadpool-cpp.cc:90] Warning: Leaking Caffe2 thread-pool after fork. (function pthreadpool)\n",
      "[W pthreadpool-cpp.cc:90] Warning: Leaking Caffe2 thread-pool after fork. (function pthreadpool)\n",
      "[W pthreadpool-cpp.cc:90] Warning: Leaking Caffe2 thread-pool after fork. (function pthreadpool)\n",
      "[W pthreadpool-cpp.cc:90] Warning: Leaking Caffe2 thread-pool after fork. (function pthreadpool)\n"
     ]
    },
    {
     "name": "stdout",
     "output_type": "stream",
     "text": [
      "valid (16/100) accuracy: 0.44611436128616333 | accuracy/std: 0.058356115740812294 | accuracy01: 0.44611436128616333 | accuracy01/std: 0.058356115740812294 | accuracy03: 0.7789589166641235 | accuracy03/std: 0.053334853682583665 | accuracy05: 0.9189882278442383 | accuracy05/std: 0.03653100097006471 | loss: 1.5223323106765747 | loss/mean: 1.5223323106765747 | loss/std: 0.07600799515981836 | lr: 1e-08 | momentum: 0.9\n",
      "* Epoch (16/100) lr: 1e-08 | momentum: 0.9\n"
     ]
    },
    {
     "data": {
      "application/vnd.jupyter.widget-view+json": {
       "model_id": "f7ed834810fe47678dc9123f8db07fc0",
       "version_major": 2,
       "version_minor": 0
      },
      "text/plain": [
       "17/100 * Epoch (train):   0%|          | 0/121 [00:00<?, ?it/s]"
      ]
     },
     "metadata": {},
     "output_type": "display_data"
    },
    {
     "name": "stderr",
     "output_type": "stream",
     "text": [
      "[W pthreadpool-cpp.cc:90] Warning: Leaking Caffe2 thread-pool after fork. (function pthreadpool)\n",
      "[W pthreadpool-cpp.cc:90] Warning: Leaking Caffe2 thread-pool after fork. (function pthreadpool)\n",
      "[W pthreadpool-cpp.cc:90] Warning: Leaking Caffe2 thread-pool after fork. (function pthreadpool)\n",
      "[W pthreadpool-cpp.cc:90] Warning: Leaking Caffe2 thread-pool after fork. (function pthreadpool)\n",
      "[W pthreadpool-cpp.cc:90] Warning: Leaking Caffe2 thread-pool after fork. (function pthreadpool)\n",
      "[W pthreadpool-cpp.cc:90] Warning: Leaking Caffe2 thread-pool after fork. (function pthreadpool)\n"
     ]
    },
    {
     "name": "stdout",
     "output_type": "stream",
     "text": [
      "train (17/100) accuracy: 0.5130165219306946 | accuracy/std: 0.031443101741300064 | accuracy01: 0.5130165219306946 | accuracy01/std: 0.031443101741300064 | accuracy03: 0.81351238489151 | accuracy03/std: 0.031193490560414577 | accuracy05: 0.932975172996521 | accuracy05/std: 0.018459394054358983 | loss: 1.4223289489746094 | loss/mean: 1.4223289489746094 | loss/std: 0.039433519811957335 | lr: 1e-08 | momentum: 0.9\n"
     ]
    },
    {
     "data": {
      "application/vnd.jupyter.widget-view+json": {
       "model_id": "a4d87d6d9cef41f885c45bd88112ec89",
       "version_major": 2,
       "version_minor": 0
      },
      "text/plain": [
       "17/100 * Epoch (valid):   0%|          | 0/14 [00:00<?, ?it/s]"
      ]
     },
     "metadata": {},
     "output_type": "display_data"
    },
    {
     "name": "stderr",
     "output_type": "stream",
     "text": [
      "[W pthreadpool-cpp.cc:90] Warning: Leaking Caffe2 thread-pool after fork. (function pthreadpool)\n",
      "[W pthreadpool-cpp.cc:90] Warning: Leaking Caffe2 thread-pool after fork. (function pthreadpool)\n",
      "[W pthreadpool-cpp.cc:90] Warning: Leaking Caffe2 thread-pool after fork. (function pthreadpool)\n",
      "[W pthreadpool-cpp.cc:90] Warning: Leaking Caffe2 thread-pool after fork. (function pthreadpool)\n",
      "[W pthreadpool-cpp.cc:90] Warning: Leaking Caffe2 thread-pool after fork. (function pthreadpool)\n",
      "[W pthreadpool-cpp.cc:90] Warning: Leaking Caffe2 thread-pool after fork. (function pthreadpool)\n"
     ]
    },
    {
     "name": "stdout",
     "output_type": "stream",
     "text": [
      "valid (17/100) accuracy: 0.446480929851532 | accuracy/std: 0.06348002315051546 | accuracy01: 0.446480929851532 | accuracy01/std: 0.06348002315051546 | accuracy03: 0.7811583280563354 | accuracy03/std: 0.053761519552091686 | accuracy05: 0.9189882278442383 | accuracy05/std: 0.03328775835270912 | loss: 1.5214709043502808 | loss/mean: 1.5214709043502808 | loss/std: 0.07646036964610882 | lr: 1e-08 | momentum: 0.9\n",
      "* Epoch (17/100) lr: 1e-08 | momentum: 0.9\n",
      "Top best models:\n",
      "1d/checkpoints/train.13.pth\t0.4490\n",
      "1d/checkpoints/train.14.pth\t0.4490\n",
      "1d/checkpoints/train.15.pth\t0.4472\n"
     ]
    }
   ],
   "source": [
    "EXP_PATH = '1d'\n",
    "\n",
    "\n",
    "#for i, (fold_train, fold_val) in enumerate(cv_data):\n",
    "#print('Fold', i)\n",
    "#if i==0:\n",
    "FOLD_PATH = f'{EXP_PATH}'\n",
    "\n",
    "batch_size=200\n",
    "\n",
    "\n",
    "loaders = {\n",
    "    \"train\": DataLoader(Emotional_Dataset(train, train['target']),\n",
    "                        #worker_init_fn=worker_init_fn,\n",
    "                        batch_size=batch_size, shuffle=True, drop_last=True, num_workers=6, pin_memory=True),\n",
    "    \"valid\": DataLoader(Emotional_Dataset(valid, valid['target']), \n",
    "                        #worker_init_fn=worker_init_fn,\n",
    "                        batch_size=batch_size, shuffle=False, drop_last=False, num_workers=6, pin_memory=True),\n",
    "}\n",
    "\n",
    "model =  TimmModel()\n",
    "optimizer = optim.AdamW(model.parameters(), lr=1e-5)\n",
    "criterion =torch.nn.CrossEntropyLoss()#nn.BCEWithLogitsLoss()\n",
    "scheduler = optim.lr_scheduler.ReduceLROnPlateau(optimizer, mode='max', patience=0, factor=0.3, min_lr=1e-8)\n",
    "#scheduler = torch.optim.lr_scheduler.CosineAnnealingLR(optimizer, T_max=5, eta_min=3e-5)\n",
    "\n",
    "callbacks = [\n",
    "    #dl.AUCCallback(input_key=\"logits\", target_key=\"targets\",),\n",
    "    dl.AccuracyCallback(\n",
    "            input_key=\"logits\", target_key=\"targets\", num_classes=n_of_class_emotion\n",
    "        ),\n",
    "    dl.OptimizerCallback('loss'),\n",
    "    dl.SchedulerCallback(loader_key='valid', metric_key='accuracy', mode='epoch'),\n",
    "    dl.CheckpointCallback(loader_key='valid', metric_key='accuracy', minimize=False, save_n_best=3, mode='model', use_runner_logdir=True, use_logdir_postfix=True, ),\n",
    "    dl.EarlyStoppingCallback(patience=4, loader_key=\"valid\", metric_key=\"accuracy\", minimize=False),\n",
    "    dl.TimerCallback()\n",
    "]\n",
    "runner = dl.SupervisedRunner(input_key=\"features\", target_key=\"targets\", output_key=\"logits\", loss_key=\"loss\", )\n",
    "runner.train(\n",
    "    model=model,\n",
    "    criterion=criterion,\n",
    "    optimizer=optimizer,\n",
    "    scheduler=scheduler,\n",
    "    loaders=loaders,\n",
    "    num_epochs=100,#99999,#!!!!!!!!!!!!!!!!!!!!!!!!!!!!!!!!!!!!!!!!!!!!!!!!!!!!!!!!!!!!!!!!!!!!!!!!!!!!!!!!!\n",
    "    callbacks=callbacks,\n",
    "    #engine=dl.DeviceEngine(\"cpu\"),\n",
    "    logdir=f\"{FOLD_PATH}\",\n",
    "    valid_loader=\"valid\",\n",
    "    valid_metric=\"accuracy\",\n",
    "    minimize_valid_metric=False,\n",
    "    verbose=True,\n",
    "    load_best_on_end=True,\n",
    "    amp=True,\n",
    ")"
   ]
  },
  {
   "cell_type": "code",
   "execution_count": 49,
   "id": "4dce7976-3ea0-4f27-8f6b-d2b50888afa2",
   "metadata": {},
   "outputs": [],
   "source": [
    "def predict_loader(model, loader):\n",
    "    pred = runner.predict_loader(model=model, loader=loader)\n",
    "    #pred = [torch.sigmoid(batch['logits'].detach().cpu().float()).numpy() for batch in tqdm(pred)] \n",
    "    pred = [batch['logits'].detach().cpu().float().numpy() for batch in tqdm(pred)] \n",
    "    pred = pd.Series(np.concatenate(pred, 0), index = loader.dataset.index)\n",
    "    return pred\n",
    "\n",
    "\n",
    "def write_prediction(pred, name, exp_path='logs'):\n",
    "    sub = pd.read_csv('g2net-gravitational-wave-detection/sample_submission.csv').set_index('id')\n",
    "    sub['target'] = pred\n",
    "    sub.to_csv(f'{exp_path}/sub_{name}.csv')\n",
    "    \n",
    "\n",
    "    \n",
    "def get_valid_logs(exp_path='logs'):\n",
    "    valid_log = pd.read_csv(f'{exp_path}/logs/valid.csv')#.set_index('step')\n",
    "    if ('step' == valid_log['step']).any():\n",
    "        valid_log = valid_log.iloc[valid_log[valid_log['step'] == 'step'].index.max()+1:].reset_index(drop=True)\n",
    "    return valid_log"
   ]
  },
  {
   "cell_type": "code",
   "execution_count": 74,
   "id": "b71495e4-b87d-40d8-8b46-fb53a5db3f8c",
   "metadata": {},
   "outputs": [
    {
     "data": {
      "application/vnd.jupyter.widget-view+json": {
       "model_id": "53818b5e99504c53911ace9784bc39b8",
       "version_major": 2,
       "version_minor": 0
      },
      "text/plain": [
       "0it [00:00, ?it/s]"
      ]
     },
     "metadata": {},
     "output_type": "display_data"
    },
    {
     "name": "stderr",
     "output_type": "stream",
     "text": [
      "[W pthreadpool-cpp.cc:90] Warning: Leaking Caffe2 thread-pool after fork. (function pthreadpool)\n",
      "[W pthreadpool-cpp.cc:90] Warning: Leaking Caffe2 thread-pool after fork. (function pthreadpool)\n",
      "[W pthreadpool-cpp.cc:90] Warning: Leaking Caffe2 thread-pool after fork. (function pthreadpool)\n",
      "[W pthreadpool-cpp.cc:90] Warning: Leaking Caffe2 thread-pool after fork. (function pthreadpool)\n",
      "[W pthreadpool-cpp.cc:90] Warning: Leaking Caffe2 thread-pool after fork. (function pthreadpool)\n",
      "[W pthreadpool-cpp.cc:90] Warning: Leaking Caffe2 thread-pool after fork. (function pthreadpool)\n"
     ]
    },
    {
     "name": "stdout",
     "output_type": "stream",
     "text": [
      "0.4550595238095238\n"
     ]
    }
   ],
   "source": [
    "test_dataloader = DataLoader(Emotional_Dataset(test, test['target']), \n",
    "                    #worker_init_fn=worker_init_fn,\n",
    "                    batch_size=batch_size, shuffle=False, drop_last=False, num_workers=6, pin_memory=False)\n",
    "model =  TimmModel()\n",
    "model.load_state_dict(torch.load(f'{EXP_PATH}/checkpoints/best.pth')['model_state_dict'])\n",
    "model = model.eval().cuda()\n",
    "score = get_valid_logs(EXP_PATH)['accuracy'].max()\n",
    "#pred = predict_loader(model, test_dataloader)\n",
    "#write_prediction(pred, f'best_{score}', EXP_PATH)\n",
    "\n",
    "pred = runner.predict_loader(model=model, loader=test_dataloader)\n",
    "#pred = [torch.sigmoid(batch['logits'].detach().cpu().float()).numpy() for batch in tqdm(pred)] \n",
    "pred = [batch['logits'].detach().cpu().float().numpy() for batch in tqdm(pred)] \n",
    "\n",
    "\n",
    "pred = pd.DataFrame(np.concatenate(pred, 0), index = test_dataloader.dataset.index)\n",
    "\n",
    "test['pred'] = pred.apply(lambda row: row.argmax(), axis=1).values\n",
    "from sklearn.metrics import accuracy_score\n",
    "print(accuracy_score(test.target, test.pred))"
   ]
  },
  {
   "cell_type": "code",
   "execution_count": 75,
   "id": "8be820e3-595a-4be6-858a-92928452a928",
   "metadata": {},
   "outputs": [],
   "source": [
    "pred = pred.reset_index()"
   ]
  },
  {
   "cell_type": "code",
   "execution_count": null,
   "id": "18c14eca-06f3-4989-aacb-7fc11110316b",
   "metadata": {},
   "outputs": [],
   "source": []
  },
  {
   "cell_type": "code",
   "execution_count": 81,
   "id": "57f3fc52-5a28-42fa-a770-8b260ecb9842",
   "metadata": {},
   "outputs": [
    {
     "data": {
      "text/html": [
       "<div>\n",
       "<style scoped>\n",
       "    .dataframe tbody tr th:only-of-type {\n",
       "        vertical-align: middle;\n",
       "    }\n",
       "\n",
       "    .dataframe tbody tr th {\n",
       "        vertical-align: top;\n",
       "    }\n",
       "\n",
       "    .dataframe thead th {\n",
       "        text-align: right;\n",
       "    }\n",
       "</style>\n",
       "<table border=\"1\" class=\"dataframe\">\n",
       "  <thead>\n",
       "    <tr style=\"text-align: right;\">\n",
       "      <th></th>\n",
       "      <th>path</th>\n",
       "      <th>0</th>\n",
       "      <th>1</th>\n",
       "      <th>2</th>\n",
       "      <th>3</th>\n",
       "      <th>4</th>\n",
       "      <th>5</th>\n",
       "      <th>6</th>\n",
       "    </tr>\n",
       "  </thead>\n",
       "  <tbody>\n",
       "    <tr>\n",
       "      <th>0</th>\n",
       "      <td>cremad/AudioWAV/1047_TSI_SAD_XX.wav</td>\n",
       "      <td>0.234065</td>\n",
       "      <td>0.736190</td>\n",
       "      <td>-0.707279</td>\n",
       "      <td>-0.831850</td>\n",
       "      <td>0.497806</td>\n",
       "      <td>0.070839</td>\n",
       "      <td>-0.244048</td>\n",
       "    </tr>\n",
       "    <tr>\n",
       "      <th>1</th>\n",
       "      <td>cremad/AudioWAV/1070_TSI_NEU_XX.wav</td>\n",
       "      <td>-0.151495</td>\n",
       "      <td>-0.339816</td>\n",
       "      <td>-0.167538</td>\n",
       "      <td>0.267519</td>\n",
       "      <td>0.963063</td>\n",
       "      <td>-0.338073</td>\n",
       "      <td>0.046682</td>\n",
       "    </tr>\n",
       "    <tr>\n",
       "      <th>2</th>\n",
       "      <td>cremad/AudioWAV/1070_TSI_NEU_XX.wav</td>\n",
       "      <td>0.046191</td>\n",
       "      <td>-0.434670</td>\n",
       "      <td>0.156462</td>\n",
       "      <td>0.485132</td>\n",
       "      <td>0.760138</td>\n",
       "      <td>-0.269214</td>\n",
       "      <td>-0.137838</td>\n",
       "    </tr>\n",
       "    <tr>\n",
       "      <th>3</th>\n",
       "      <td>cremad/AudioWAV/1009_IEO_DIS_HI.wav</td>\n",
       "      <td>-0.610656</td>\n",
       "      <td>0.121351</td>\n",
       "      <td>-0.076099</td>\n",
       "      <td>-0.180354</td>\n",
       "      <td>-0.150528</td>\n",
       "      <td>0.783978</td>\n",
       "      <td>-0.023780</td>\n",
       "    </tr>\n",
       "    <tr>\n",
       "      <th>4</th>\n",
       "      <td>cremad/AudioWAV/1009_IEO_DIS_HI.wav</td>\n",
       "      <td>-0.446101</td>\n",
       "      <td>-0.913102</td>\n",
       "      <td>0.319182</td>\n",
       "      <td>1.051095</td>\n",
       "      <td>-1.047850</td>\n",
       "      <td>0.532047</td>\n",
       "      <td>-0.424845</td>\n",
       "    </tr>\n",
       "    <tr>\n",
       "      <th>...</th>\n",
       "      <td>...</td>\n",
       "      <td>...</td>\n",
       "      <td>...</td>\n",
       "      <td>...</td>\n",
       "      <td>...</td>\n",
       "      <td>...</td>\n",
       "      <td>...</td>\n",
       "      <td>...</td>\n",
       "    </tr>\n",
       "    <tr>\n",
       "      <th>6715</th>\n",
       "      <td>ravdess-emotional-speech-audio/audio_speech_ac...</td>\n",
       "      <td>0.029045</td>\n",
       "      <td>0.234388</td>\n",
       "      <td>-0.175834</td>\n",
       "      <td>-0.552986</td>\n",
       "      <td>-0.017697</td>\n",
       "      <td>0.099122</td>\n",
       "      <td>0.122666</td>\n",
       "    </tr>\n",
       "    <tr>\n",
       "      <th>6716</th>\n",
       "      <td>ravdess-emotional-speech-audio/audio_speech_ac...</td>\n",
       "      <td>0.221068</td>\n",
       "      <td>0.237919</td>\n",
       "      <td>-0.420500</td>\n",
       "      <td>-0.522327</td>\n",
       "      <td>-0.056365</td>\n",
       "      <td>-0.116304</td>\n",
       "      <td>0.281170</td>\n",
       "    </tr>\n",
       "    <tr>\n",
       "      <th>6717</th>\n",
       "      <td>cremad/AudioWAV/1074_TIE_HAP_XX.wav</td>\n",
       "      <td>-1.016811</td>\n",
       "      <td>-0.482729</td>\n",
       "      <td>1.032654</td>\n",
       "      <td>0.590211</td>\n",
       "      <td>-0.805177</td>\n",
       "      <td>0.817743</td>\n",
       "      <td>0.159970</td>\n",
       "    </tr>\n",
       "    <tr>\n",
       "      <th>6718</th>\n",
       "      <td>cremad/AudioWAV/1074_TIE_HAP_XX.wav</td>\n",
       "      <td>-1.416423</td>\n",
       "      <td>-0.952919</td>\n",
       "      <td>0.788940</td>\n",
       "      <td>1.085400</td>\n",
       "      <td>-1.489691</td>\n",
       "      <td>1.314424</td>\n",
       "      <td>-0.572967</td>\n",
       "    </tr>\n",
       "    <tr>\n",
       "      <th>6719</th>\n",
       "      <td>cremad/AudioWAV/1074_TIE_HAP_XX.wav</td>\n",
       "      <td>-0.820848</td>\n",
       "      <td>-1.660215</td>\n",
       "      <td>1.078672</td>\n",
       "      <td>2.186605</td>\n",
       "      <td>-0.797680</td>\n",
       "      <td>0.498712</td>\n",
       "      <td>-0.154817</td>\n",
       "    </tr>\n",
       "  </tbody>\n",
       "</table>\n",
       "<p>6720 rows × 8 columns</p>\n",
       "</div>"
      ],
      "text/plain": [
       "                                                   path         0         1  \\\n",
       "0                   cremad/AudioWAV/1047_TSI_SAD_XX.wav  0.234065  0.736190   \n",
       "1                   cremad/AudioWAV/1070_TSI_NEU_XX.wav -0.151495 -0.339816   \n",
       "2                   cremad/AudioWAV/1070_TSI_NEU_XX.wav  0.046191 -0.434670   \n",
       "3                   cremad/AudioWAV/1009_IEO_DIS_HI.wav -0.610656  0.121351   \n",
       "4                   cremad/AudioWAV/1009_IEO_DIS_HI.wav -0.446101 -0.913102   \n",
       "...                                                 ...       ...       ...   \n",
       "6715  ravdess-emotional-speech-audio/audio_speech_ac...  0.029045  0.234388   \n",
       "6716  ravdess-emotional-speech-audio/audio_speech_ac...  0.221068  0.237919   \n",
       "6717                cremad/AudioWAV/1074_TIE_HAP_XX.wav -1.016811 -0.482729   \n",
       "6718                cremad/AudioWAV/1074_TIE_HAP_XX.wav -1.416423 -0.952919   \n",
       "6719                cremad/AudioWAV/1074_TIE_HAP_XX.wav -0.820848 -1.660215   \n",
       "\n",
       "             2         3         4         5         6  \n",
       "0    -0.707279 -0.831850  0.497806  0.070839 -0.244048  \n",
       "1    -0.167538  0.267519  0.963063 -0.338073  0.046682  \n",
       "2     0.156462  0.485132  0.760138 -0.269214 -0.137838  \n",
       "3    -0.076099 -0.180354 -0.150528  0.783978 -0.023780  \n",
       "4     0.319182  1.051095 -1.047850  0.532047 -0.424845  \n",
       "...        ...       ...       ...       ...       ...  \n",
       "6715 -0.175834 -0.552986 -0.017697  0.099122  0.122666  \n",
       "6716 -0.420500 -0.522327 -0.056365 -0.116304  0.281170  \n",
       "6717  1.032654  0.590211 -0.805177  0.817743  0.159970  \n",
       "6718  0.788940  1.085400 -1.489691  1.314424 -0.572967  \n",
       "6719  1.078672  2.186605 -0.797680  0.498712 -0.154817  \n",
       "\n",
       "[6720 rows x 8 columns]"
      ]
     },
     "execution_count": 81,
     "metadata": {},
     "output_type": "execute_result"
    }
   ],
   "source": [
    "pred"
   ]
  },
  {
   "cell_type": "code",
   "execution_count": 80,
   "id": "8dfa3fc0-7710-420e-9dde-93de0ac9dad8",
   "metadata": {},
   "outputs": [
    {
     "data": {
      "text/plain": [
       "3"
      ]
     },
     "execution_count": 80,
     "metadata": {},
     "output_type": "execute_result"
    }
   ],
   "source": [
    "pred[pred.path == 'cremad/AudioWAV/1074_TIE_HAP_XX.wav'].set_index('path').mean().argmax()"
   ]
  },
  {
   "cell_type": "code",
   "execution_count": 68,
   "id": "35ec7e2f-c6a5-4a56-8d32-9d41daf1adcc",
   "metadata": {},
   "outputs": [],
   "source": [
    "pred = pred.groupby(by=['path']).apply(lambda a: a.mean()).reset_index()"
   ]
  },
  {
   "cell_type": "code",
   "execution_count": 72,
   "id": "25a1bb1b-5376-4978-b2ff-ed25c6128008",
   "metadata": {},
   "outputs": [
    {
     "name": "stderr",
     "output_type": "stream",
     "text": [
      "/tmp/ipykernel_103692/950401255.py:1: SettingWithCopyWarning: \n",
      "A value is trying to be set on a copy of a slice from a DataFrame.\n",
      "Try using .loc[row_indexer,col_indexer] = value instead\n",
      "\n",
      "See the caveats in the documentation: https://pandas.pydata.org/pandas-docs/stable/user_guide/indexing.html#returning-a-view-versus-a-copy\n",
      "  test_original['pred'] = pred.set_index('path').apply(lambda row: row.argmax(), axis=1).values\n"
     ]
    }
   ],
   "source": [
    "test_original['pred'] = pred.set_index('path').apply(lambda row: row.argmax(), axis=1).values"
   ]
  },
  {
   "cell_type": "code",
   "execution_count": 73,
   "id": "85fbf53c-381a-43c9-9cdb-42a35f8fd9ef",
   "metadata": {},
   "outputs": [
    {
     "name": "stdout",
     "output_type": "stream",
     "text": [
      "0.15659679408138102\n"
     ]
    }
   ],
   "source": [
    "print(accuracy_score(test_original.target, test_original.pred))"
   ]
  },
  {
   "cell_type": "code",
   "execution_count": 16,
   "id": "1c62d148-4c1f-4562-8b39-b766e3d9b253",
   "metadata": {},
   "outputs": [],
   "source": [
    "inv_class_dict = {}\n",
    "for k in dict_of_class:\n",
    "    inv_class_dict[dict_of_class[k]]=k"
   ]
  },
  {
   "cell_type": "code",
   "execution_count": 17,
   "id": "efea3360-45b3-49c3-a3d5-00f144a56210",
   "metadata": {},
   "outputs": [
    {
     "data": {
      "text/plain": [
       "'fear'"
      ]
     },
     "execution_count": 17,
     "metadata": {},
     "output_type": "execute_result"
    }
   ],
   "source": [
    "Personal = Emotional_Dataset(['personal/disgust_eng.wav'], [1])\n",
    "smp = Personal[0]\n",
    "img, labl = smp['features'].unsqueeze(0).to('cuda:0'), smp['targets']\n",
    "\n",
    "inv_class_dict[int(model(img).argmax().cpu().data.numpy())]"
   ]
  },
  {
   "cell_type": "code",
   "execution_count": null,
   "id": "5ed7c46a-4d28-4026-9add-450a6da07ff8",
   "metadata": {},
   "outputs": [],
   "source": [
    "'a'"
   ]
  },
  {
   "cell_type": "code",
   "execution_count": null,
   "id": "8b5c34ce-c0d6-4fe8-b45a-8b867c8d196b",
   "metadata": {},
   "outputs": [],
   "source": []
  }
 ],
 "metadata": {
  "kernelspec": {
   "display_name": "Python 3",
   "language": "python",
   "name": "python3"
  },
  "language_info": {
   "codemirror_mode": {
    "name": "ipython",
    "version": 3
   },
   "file_extension": ".py",
   "mimetype": "text/x-python",
   "name": "python",
   "nbconvert_exporter": "python",
   "pygments_lexer": "ipython3",
   "version": "3.8.0"
  }
 },
 "nbformat": 4,
 "nbformat_minor": 5
}
